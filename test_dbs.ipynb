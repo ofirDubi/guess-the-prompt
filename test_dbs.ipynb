{
 "cells": [
  {
   "cell_type": "code",
   "execution_count": 2,
   "metadata": {},
   "outputs": [
    {
     "ename": "KeyboardInterrupt",
     "evalue": "",
     "output_type": "error",
     "traceback": [
      "\u001b[1;31m---------------------------------------------------------------------------\u001b[0m",
      "\u001b[1;31mKeyboardInterrupt\u001b[0m                         Traceback (most recent call last)",
      "Cell \u001b[1;32mIn[2], line 6\u001b[0m\n\u001b[0;32m      2\u001b[0m \u001b[38;5;28;01mfrom\u001b[39;00m \u001b[38;5;21;01mdatasets\u001b[39;00m \u001b[38;5;28;01mimport\u001b[39;00m load_dataset\n\u001b[0;32m      5\u001b[0m \u001b[38;5;66;03m# Load the dataset with the `large_random_1k` subset\u001b[39;00m\n\u001b[1;32m----> 6\u001b[0m dataset \u001b[38;5;241m=\u001b[39m \u001b[43mload_dataset\u001b[49m\u001b[43m(\u001b[49m\u001b[38;5;124;43m'\u001b[39;49m\u001b[38;5;124;43mpoloclub/diffusiondb\u001b[39;49m\u001b[38;5;124;43m'\u001b[39;49m\u001b[43m,\u001b[49m\u001b[43m \u001b[49m\u001b[38;5;124;43m'\u001b[39;49m\u001b[38;5;124;43mlarge_random_1k\u001b[39;49m\u001b[38;5;124;43m'\u001b[39;49m\u001b[43m,\u001b[49m\u001b[43m \u001b[49m\u001b[43mtrust_remote_code\u001b[49m\u001b[38;5;241;43m=\u001b[39;49m\u001b[38;5;28;43;01mTrue\u001b[39;49;00m\u001b[43m)\u001b[49m\n",
      "File \u001b[1;32mc:\\Python\\Python311\\Lib\\site-packages\\datasets\\load.py:2096\u001b[0m, in \u001b[0;36mload_dataset\u001b[1;34m(path, name, data_dir, data_files, split, cache_dir, features, download_config, download_mode, verification_mode, keep_in_memory, save_infos, revision, token, streaming, num_proc, storage_options, trust_remote_code, **config_kwargs)\u001b[0m\n\u001b[0;32m   2093\u001b[0m     \u001b[38;5;28;01mreturn\u001b[39;00m builder_instance\u001b[38;5;241m.\u001b[39mas_streaming_dataset(split\u001b[38;5;241m=\u001b[39msplit)\n\u001b[0;32m   2095\u001b[0m \u001b[38;5;66;03m# Download and prepare data\u001b[39;00m\n\u001b[1;32m-> 2096\u001b[0m \u001b[43mbuilder_instance\u001b[49m\u001b[38;5;241;43m.\u001b[39;49m\u001b[43mdownload_and_prepare\u001b[49m\u001b[43m(\u001b[49m\n\u001b[0;32m   2097\u001b[0m \u001b[43m    \u001b[49m\u001b[43mdownload_config\u001b[49m\u001b[38;5;241;43m=\u001b[39;49m\u001b[43mdownload_config\u001b[49m\u001b[43m,\u001b[49m\n\u001b[0;32m   2098\u001b[0m \u001b[43m    \u001b[49m\u001b[43mdownload_mode\u001b[49m\u001b[38;5;241;43m=\u001b[39;49m\u001b[43mdownload_mode\u001b[49m\u001b[43m,\u001b[49m\n\u001b[0;32m   2099\u001b[0m \u001b[43m    \u001b[49m\u001b[43mverification_mode\u001b[49m\u001b[38;5;241;43m=\u001b[39;49m\u001b[43mverification_mode\u001b[49m\u001b[43m,\u001b[49m\n\u001b[0;32m   2100\u001b[0m \u001b[43m    \u001b[49m\u001b[43mnum_proc\u001b[49m\u001b[38;5;241;43m=\u001b[39;49m\u001b[43mnum_proc\u001b[49m\u001b[43m,\u001b[49m\n\u001b[0;32m   2101\u001b[0m \u001b[43m    \u001b[49m\u001b[43mstorage_options\u001b[49m\u001b[38;5;241;43m=\u001b[39;49m\u001b[43mstorage_options\u001b[49m\u001b[43m,\u001b[49m\n\u001b[0;32m   2102\u001b[0m \u001b[43m\u001b[49m\u001b[43m)\u001b[49m\n\u001b[0;32m   2104\u001b[0m \u001b[38;5;66;03m# Build dataset for splits\u001b[39;00m\n\u001b[0;32m   2105\u001b[0m keep_in_memory \u001b[38;5;241m=\u001b[39m (\n\u001b[0;32m   2106\u001b[0m     keep_in_memory \u001b[38;5;28;01mif\u001b[39;00m keep_in_memory \u001b[38;5;129;01mis\u001b[39;00m \u001b[38;5;129;01mnot\u001b[39;00m \u001b[38;5;28;01mNone\u001b[39;00m \u001b[38;5;28;01melse\u001b[39;00m is_small_dataset(builder_instance\u001b[38;5;241m.\u001b[39minfo\u001b[38;5;241m.\u001b[39mdataset_size)\n\u001b[0;32m   2107\u001b[0m )\n",
      "File \u001b[1;32mc:\\Python\\Python311\\Lib\\site-packages\\datasets\\builder.py:924\u001b[0m, in \u001b[0;36mDatasetBuilder.download_and_prepare\u001b[1;34m(self, output_dir, download_config, download_mode, verification_mode, dl_manager, base_path, file_format, max_shard_size, num_proc, storage_options, **download_and_prepare_kwargs)\u001b[0m\n\u001b[0;32m    922\u001b[0m \u001b[38;5;28;01mif\u001b[39;00m num_proc \u001b[38;5;129;01mis\u001b[39;00m \u001b[38;5;129;01mnot\u001b[39;00m \u001b[38;5;28;01mNone\u001b[39;00m:\n\u001b[0;32m    923\u001b[0m     prepare_split_kwargs[\u001b[38;5;124m\"\u001b[39m\u001b[38;5;124mnum_proc\u001b[39m\u001b[38;5;124m\"\u001b[39m] \u001b[38;5;241m=\u001b[39m num_proc\n\u001b[1;32m--> 924\u001b[0m \u001b[38;5;28;43mself\u001b[39;49m\u001b[38;5;241;43m.\u001b[39;49m\u001b[43m_download_and_prepare\u001b[49m\u001b[43m(\u001b[49m\n\u001b[0;32m    925\u001b[0m \u001b[43m    \u001b[49m\u001b[43mdl_manager\u001b[49m\u001b[38;5;241;43m=\u001b[39;49m\u001b[43mdl_manager\u001b[49m\u001b[43m,\u001b[49m\n\u001b[0;32m    926\u001b[0m \u001b[43m    \u001b[49m\u001b[43mverification_mode\u001b[49m\u001b[38;5;241;43m=\u001b[39;49m\u001b[43mverification_mode\u001b[49m\u001b[43m,\u001b[49m\n\u001b[0;32m    927\u001b[0m \u001b[43m    \u001b[49m\u001b[38;5;241;43m*\u001b[39;49m\u001b[38;5;241;43m*\u001b[39;49m\u001b[43mprepare_split_kwargs\u001b[49m\u001b[43m,\u001b[49m\n\u001b[0;32m    928\u001b[0m \u001b[43m    \u001b[49m\u001b[38;5;241;43m*\u001b[39;49m\u001b[38;5;241;43m*\u001b[39;49m\u001b[43mdownload_and_prepare_kwargs\u001b[49m\u001b[43m,\u001b[49m\n\u001b[0;32m    929\u001b[0m \u001b[43m\u001b[49m\u001b[43m)\u001b[49m\n\u001b[0;32m    930\u001b[0m \u001b[38;5;66;03m# Sync info\u001b[39;00m\n\u001b[0;32m    931\u001b[0m \u001b[38;5;28mself\u001b[39m\u001b[38;5;241m.\u001b[39minfo\u001b[38;5;241m.\u001b[39mdataset_size \u001b[38;5;241m=\u001b[39m \u001b[38;5;28msum\u001b[39m(split\u001b[38;5;241m.\u001b[39mnum_bytes \u001b[38;5;28;01mfor\u001b[39;00m split \u001b[38;5;129;01min\u001b[39;00m \u001b[38;5;28mself\u001b[39m\u001b[38;5;241m.\u001b[39minfo\u001b[38;5;241m.\u001b[39msplits\u001b[38;5;241m.\u001b[39mvalues())\n",
      "File \u001b[1;32mc:\\Python\\Python311\\Lib\\site-packages\\datasets\\builder.py:1647\u001b[0m, in \u001b[0;36mGeneratorBasedBuilder._download_and_prepare\u001b[1;34m(self, dl_manager, verification_mode, **prepare_splits_kwargs)\u001b[0m\n\u001b[0;32m   1646\u001b[0m \u001b[38;5;28;01mdef\u001b[39;00m \u001b[38;5;21m_download_and_prepare\u001b[39m(\u001b[38;5;28mself\u001b[39m, dl_manager, verification_mode, \u001b[38;5;241m*\u001b[39m\u001b[38;5;241m*\u001b[39mprepare_splits_kwargs):\n\u001b[1;32m-> 1647\u001b[0m     \u001b[38;5;28;43msuper\u001b[39;49m\u001b[43m(\u001b[49m\u001b[43m)\u001b[49m\u001b[38;5;241;43m.\u001b[39;49m\u001b[43m_download_and_prepare\u001b[49m\u001b[43m(\u001b[49m\n\u001b[0;32m   1648\u001b[0m \u001b[43m        \u001b[49m\u001b[43mdl_manager\u001b[49m\u001b[43m,\u001b[49m\n\u001b[0;32m   1649\u001b[0m \u001b[43m        \u001b[49m\u001b[43mverification_mode\u001b[49m\u001b[43m,\u001b[49m\n\u001b[0;32m   1650\u001b[0m \u001b[43m        \u001b[49m\u001b[43mcheck_duplicate_keys\u001b[49m\u001b[38;5;241;43m=\u001b[39;49m\u001b[43mverification_mode\u001b[49m\u001b[43m \u001b[49m\u001b[38;5;241;43m==\u001b[39;49m\u001b[43m \u001b[49m\u001b[43mVerificationMode\u001b[49m\u001b[38;5;241;43m.\u001b[39;49m\u001b[43mBASIC_CHECKS\u001b[49m\n\u001b[0;32m   1651\u001b[0m \u001b[43m        \u001b[49m\u001b[38;5;129;43;01mor\u001b[39;49;00m\u001b[43m \u001b[49m\u001b[43mverification_mode\u001b[49m\u001b[43m \u001b[49m\u001b[38;5;241;43m==\u001b[39;49m\u001b[43m \u001b[49m\u001b[43mVerificationMode\u001b[49m\u001b[38;5;241;43m.\u001b[39;49m\u001b[43mALL_CHECKS\u001b[49m\u001b[43m,\u001b[49m\n\u001b[0;32m   1652\u001b[0m \u001b[43m        \u001b[49m\u001b[38;5;241;43m*\u001b[39;49m\u001b[38;5;241;43m*\u001b[39;49m\u001b[43mprepare_splits_kwargs\u001b[49m\u001b[43m,\u001b[49m\n\u001b[0;32m   1653\u001b[0m \u001b[43m    \u001b[49m\u001b[43m)\u001b[49m\n",
      "File \u001b[1;32mc:\\Python\\Python311\\Lib\\site-packages\\datasets\\builder.py:977\u001b[0m, in \u001b[0;36mDatasetBuilder._download_and_prepare\u001b[1;34m(self, dl_manager, verification_mode, **prepare_split_kwargs)\u001b[0m\n\u001b[0;32m    975\u001b[0m split_dict \u001b[38;5;241m=\u001b[39m SplitDict(dataset_name\u001b[38;5;241m=\u001b[39m\u001b[38;5;28mself\u001b[39m\u001b[38;5;241m.\u001b[39mdataset_name)\n\u001b[0;32m    976\u001b[0m split_generators_kwargs \u001b[38;5;241m=\u001b[39m \u001b[38;5;28mself\u001b[39m\u001b[38;5;241m.\u001b[39m_make_split_generators_kwargs(prepare_split_kwargs)\n\u001b[1;32m--> 977\u001b[0m split_generators \u001b[38;5;241m=\u001b[39m \u001b[38;5;28;43mself\u001b[39;49m\u001b[38;5;241;43m.\u001b[39;49m\u001b[43m_split_generators\u001b[49m\u001b[43m(\u001b[49m\u001b[43mdl_manager\u001b[49m\u001b[43m,\u001b[49m\u001b[43m \u001b[49m\u001b[38;5;241;43m*\u001b[39;49m\u001b[38;5;241;43m*\u001b[39;49m\u001b[43msplit_generators_kwargs\u001b[49m\u001b[43m)\u001b[49m\n\u001b[0;32m    979\u001b[0m \u001b[38;5;66;03m# Checksums verification\u001b[39;00m\n\u001b[0;32m    980\u001b[0m \u001b[38;5;28;01mif\u001b[39;00m verification_mode \u001b[38;5;241m==\u001b[39m VerificationMode\u001b[38;5;241m.\u001b[39mALL_CHECKS \u001b[38;5;129;01mand\u001b[39;00m dl_manager\u001b[38;5;241m.\u001b[39mrecord_checksums:\n",
      "File \u001b[1;32m~\\.cache\\huggingface\\modules\\datasets_modules\\datasets\\poloclub--diffusiondb\\cc0d46ebdb643f128755f0d71d154eb1456672b3c5a7d70b2d666337fa6ac9f6\\diffusiondb.py:322\u001b[0m, in \u001b[0;36mDiffusionDB._split_generators\u001b[1;34m(self, dl_manager)\u001b[0m\n\u001b[0;32m    320\u001b[0m \u001b[38;5;28;01mfor\u001b[39;00m cur_part_id \u001b[38;5;129;01min\u001b[39;00m \u001b[38;5;28mself\u001b[39m\u001b[38;5;241m.\u001b[39mconfig\u001b[38;5;241m.\u001b[39mpart_ids:\n\u001b[0;32m    321\u001b[0m     cur_url \u001b[38;5;241m=\u001b[39m urls[cur_part_id]\n\u001b[1;32m--> 322\u001b[0m     data_dir \u001b[38;5;241m=\u001b[39m \u001b[43mdl_manager\u001b[49m\u001b[38;5;241;43m.\u001b[39;49m\u001b[43mdownload_and_extract\u001b[49m\u001b[43m(\u001b[49m\u001b[43mcur_url\u001b[49m\u001b[43m)\u001b[49m\n\u001b[0;32m    324\u001b[0m     data_dirs\u001b[38;5;241m.\u001b[39mappend(data_dir)\n\u001b[0;32m    325\u001b[0m     json_paths\u001b[38;5;241m.\u001b[39mappend(join(data_dir, \u001b[38;5;124mf\u001b[39m\u001b[38;5;124m\"\u001b[39m\u001b[38;5;124mpart-\u001b[39m\u001b[38;5;132;01m{\u001b[39;00mcur_part_id\u001b[38;5;132;01m:\u001b[39;00m\u001b[38;5;124m06\u001b[39m\u001b[38;5;132;01m}\u001b[39;00m\u001b[38;5;124m.json\u001b[39m\u001b[38;5;124m\"\u001b[39m))\n",
      "File \u001b[1;32mc:\\Python\\Python311\\Lib\\site-packages\\datasets\\download\\download_manager.py:322\u001b[0m, in \u001b[0;36mDownloadManager.download_and_extract\u001b[1;34m(self, url_or_urls)\u001b[0m\n\u001b[0;32m    306\u001b[0m \u001b[38;5;28;01mdef\u001b[39;00m \u001b[38;5;21mdownload_and_extract\u001b[39m(\u001b[38;5;28mself\u001b[39m, url_or_urls):\n\u001b[0;32m    307\u001b[0m \u001b[38;5;250m    \u001b[39m\u001b[38;5;124;03m\"\"\"Download and extract given `url_or_urls`.\u001b[39;00m\n\u001b[0;32m    308\u001b[0m \n\u001b[0;32m    309\u001b[0m \u001b[38;5;124;03m    Is roughly equivalent to:\u001b[39;00m\n\u001b[1;32m   (...)\u001b[0m\n\u001b[0;32m    320\u001b[0m \u001b[38;5;124;03m        extracted_path(s): `str`, extracted paths of given URL(s).\u001b[39;00m\n\u001b[0;32m    321\u001b[0m \u001b[38;5;124;03m    \"\"\"\u001b[39;00m\n\u001b[1;32m--> 322\u001b[0m     \u001b[38;5;28;01mreturn\u001b[39;00m \u001b[38;5;28mself\u001b[39m\u001b[38;5;241m.\u001b[39mextract(\u001b[38;5;28;43mself\u001b[39;49m\u001b[38;5;241;43m.\u001b[39;49m\u001b[43mdownload\u001b[49m\u001b[43m(\u001b[49m\u001b[43murl_or_urls\u001b[49m\u001b[43m)\u001b[49m)\n",
      "File \u001b[1;32mc:\\Python\\Python311\\Lib\\site-packages\\datasets\\download\\download_manager.py:159\u001b[0m, in \u001b[0;36mDownloadManager.download\u001b[1;34m(self, url_or_urls)\u001b[0m\n\u001b[0;32m    157\u001b[0m start_time \u001b[38;5;241m=\u001b[39m datetime\u001b[38;5;241m.\u001b[39mnow()\n\u001b[0;32m    158\u001b[0m \u001b[38;5;28;01mwith\u001b[39;00m stack_multiprocessing_download_progress_bars():\n\u001b[1;32m--> 159\u001b[0m     downloaded_path_or_paths \u001b[38;5;241m=\u001b[39m \u001b[43mmap_nested\u001b[49m\u001b[43m(\u001b[49m\n\u001b[0;32m    160\u001b[0m \u001b[43m        \u001b[49m\u001b[43mdownload_func\u001b[49m\u001b[43m,\u001b[49m\n\u001b[0;32m    161\u001b[0m \u001b[43m        \u001b[49m\u001b[43murl_or_urls\u001b[49m\u001b[43m,\u001b[49m\n\u001b[0;32m    162\u001b[0m \u001b[43m        \u001b[49m\u001b[43mmap_tuple\u001b[49m\u001b[38;5;241;43m=\u001b[39;49m\u001b[38;5;28;43;01mTrue\u001b[39;49;00m\u001b[43m,\u001b[49m\n\u001b[0;32m    163\u001b[0m \u001b[43m        \u001b[49m\u001b[43mnum_proc\u001b[49m\u001b[38;5;241;43m=\u001b[39;49m\u001b[43mdownload_config\u001b[49m\u001b[38;5;241;43m.\u001b[39;49m\u001b[43mnum_proc\u001b[49m\u001b[43m,\u001b[49m\n\u001b[0;32m    164\u001b[0m \u001b[43m        \u001b[49m\u001b[43mdesc\u001b[49m\u001b[38;5;241;43m=\u001b[39;49m\u001b[38;5;124;43m\"\u001b[39;49m\u001b[38;5;124;43mDownloading data files\u001b[39;49m\u001b[38;5;124;43m\"\u001b[39;49m\u001b[43m,\u001b[49m\n\u001b[0;32m    165\u001b[0m \u001b[43m        \u001b[49m\u001b[43mbatched\u001b[49m\u001b[38;5;241;43m=\u001b[39;49m\u001b[38;5;28;43;01mTrue\u001b[39;49;00m\u001b[43m,\u001b[49m\n\u001b[0;32m    166\u001b[0m \u001b[43m        \u001b[49m\u001b[43mbatch_size\u001b[49m\u001b[38;5;241;43m=\u001b[39;49m\u001b[38;5;241;43m-\u001b[39;49m\u001b[38;5;241;43m1\u001b[39;49m\u001b[43m,\u001b[49m\n\u001b[0;32m    167\u001b[0m \u001b[43m    \u001b[49m\u001b[43m)\u001b[49m\n\u001b[0;32m    168\u001b[0m duration \u001b[38;5;241m=\u001b[39m datetime\u001b[38;5;241m.\u001b[39mnow() \u001b[38;5;241m-\u001b[39m start_time\n\u001b[0;32m    169\u001b[0m logger\u001b[38;5;241m.\u001b[39minfo(\u001b[38;5;124mf\u001b[39m\u001b[38;5;124m\"\u001b[39m\u001b[38;5;124mDownloading took \u001b[39m\u001b[38;5;132;01m{\u001b[39;00mduration\u001b[38;5;241m.\u001b[39mtotal_seconds()\u001b[38;5;250m \u001b[39m\u001b[38;5;241m/\u001b[39m\u001b[38;5;241m/\u001b[39m\u001b[38;5;250m \u001b[39m\u001b[38;5;241m60\u001b[39m\u001b[38;5;132;01m}\u001b[39;00m\u001b[38;5;124m min\u001b[39m\u001b[38;5;124m\"\u001b[39m)\n",
      "File \u001b[1;32mc:\\Python\\Python311\\Lib\\site-packages\\datasets\\utils\\py_utils.py:484\u001b[0m, in \u001b[0;36mmap_nested\u001b[1;34m(function, data_struct, dict_only, map_list, map_tuple, map_numpy, num_proc, parallel_min_length, batched, batch_size, types, disable_tqdm, desc)\u001b[0m\n\u001b[0;32m    482\u001b[0m \u001b[38;5;28;01mif\u001b[39;00m batched:\n\u001b[0;32m    483\u001b[0m     data_struct \u001b[38;5;241m=\u001b[39m [data_struct]\n\u001b[1;32m--> 484\u001b[0m mapped \u001b[38;5;241m=\u001b[39m \u001b[43mfunction\u001b[49m\u001b[43m(\u001b[49m\u001b[43mdata_struct\u001b[49m\u001b[43m)\u001b[49m\n\u001b[0;32m    485\u001b[0m \u001b[38;5;28;01mif\u001b[39;00m batched:\n\u001b[0;32m    486\u001b[0m     mapped \u001b[38;5;241m=\u001b[39m mapped[\u001b[38;5;241m0\u001b[39m]\n",
      "File \u001b[1;32mc:\\Python\\Python311\\Lib\\site-packages\\datasets\\download\\download_manager.py:215\u001b[0m, in \u001b[0;36mDownloadManager._download_batched\u001b[1;34m(self, url_or_filenames, download_config)\u001b[0m\n\u001b[0;32m    202\u001b[0m     \u001b[38;5;28;01mreturn\u001b[39;00m thread_map(\n\u001b[0;32m    203\u001b[0m         download_func,\n\u001b[0;32m    204\u001b[0m         url_or_filenames,\n\u001b[1;32m   (...)\u001b[0m\n\u001b[0;32m    212\u001b[0m         tqdm_class\u001b[38;5;241m=\u001b[39mtqdm,\n\u001b[0;32m    213\u001b[0m     )\n\u001b[0;32m    214\u001b[0m \u001b[38;5;28;01melse\u001b[39;00m:\n\u001b[1;32m--> 215\u001b[0m     \u001b[38;5;28;01mreturn\u001b[39;00m \u001b[43m[\u001b[49m\n\u001b[0;32m    216\u001b[0m \u001b[43m        \u001b[49m\u001b[38;5;28;43mself\u001b[39;49m\u001b[38;5;241;43m.\u001b[39;49m\u001b[43m_download_single\u001b[49m\u001b[43m(\u001b[49m\u001b[43murl_or_filename\u001b[49m\u001b[43m,\u001b[49m\u001b[43m \u001b[49m\u001b[43mdownload_config\u001b[49m\u001b[38;5;241;43m=\u001b[39;49m\u001b[43mdownload_config\u001b[49m\u001b[43m)\u001b[49m\n\u001b[0;32m    217\u001b[0m \u001b[43m        \u001b[49m\u001b[38;5;28;43;01mfor\u001b[39;49;00m\u001b[43m \u001b[49m\u001b[43murl_or_filename\u001b[49m\u001b[43m \u001b[49m\u001b[38;5;129;43;01min\u001b[39;49;00m\u001b[43m \u001b[49m\u001b[43murl_or_filenames\u001b[49m\n\u001b[0;32m    218\u001b[0m \u001b[43m    \u001b[49m\u001b[43m]\u001b[49m\n",
      "File \u001b[1;32mc:\\Python\\Python311\\Lib\\site-packages\\datasets\\download\\download_manager.py:216\u001b[0m, in \u001b[0;36m<listcomp>\u001b[1;34m(.0)\u001b[0m\n\u001b[0;32m    202\u001b[0m     \u001b[38;5;28;01mreturn\u001b[39;00m thread_map(\n\u001b[0;32m    203\u001b[0m         download_func,\n\u001b[0;32m    204\u001b[0m         url_or_filenames,\n\u001b[1;32m   (...)\u001b[0m\n\u001b[0;32m    212\u001b[0m         tqdm_class\u001b[38;5;241m=\u001b[39mtqdm,\n\u001b[0;32m    213\u001b[0m     )\n\u001b[0;32m    214\u001b[0m \u001b[38;5;28;01melse\u001b[39;00m:\n\u001b[0;32m    215\u001b[0m     \u001b[38;5;28;01mreturn\u001b[39;00m [\n\u001b[1;32m--> 216\u001b[0m         \u001b[38;5;28;43mself\u001b[39;49m\u001b[38;5;241;43m.\u001b[39;49m\u001b[43m_download_single\u001b[49m\u001b[43m(\u001b[49m\u001b[43murl_or_filename\u001b[49m\u001b[43m,\u001b[49m\u001b[43m \u001b[49m\u001b[43mdownload_config\u001b[49m\u001b[38;5;241;43m=\u001b[39;49m\u001b[43mdownload_config\u001b[49m\u001b[43m)\u001b[49m\n\u001b[0;32m    217\u001b[0m         \u001b[38;5;28;01mfor\u001b[39;00m url_or_filename \u001b[38;5;129;01min\u001b[39;00m url_or_filenames\n\u001b[0;32m    218\u001b[0m     ]\n",
      "File \u001b[1;32mc:\\Python\\Python311\\Lib\\site-packages\\datasets\\download\\download_manager.py:225\u001b[0m, in \u001b[0;36mDownloadManager._download_single\u001b[1;34m(self, url_or_filename, download_config)\u001b[0m\n\u001b[0;32m    222\u001b[0m \u001b[38;5;28;01mif\u001b[39;00m is_relative_path(url_or_filename):\n\u001b[0;32m    223\u001b[0m     \u001b[38;5;66;03m# append the relative path to the base_path\u001b[39;00m\n\u001b[0;32m    224\u001b[0m     url_or_filename \u001b[38;5;241m=\u001b[39m url_or_path_join(\u001b[38;5;28mself\u001b[39m\u001b[38;5;241m.\u001b[39m_base_path, url_or_filename)\n\u001b[1;32m--> 225\u001b[0m out \u001b[38;5;241m=\u001b[39m \u001b[43mcached_path\u001b[49m\u001b[43m(\u001b[49m\u001b[43murl_or_filename\u001b[49m\u001b[43m,\u001b[49m\u001b[43m \u001b[49m\u001b[43mdownload_config\u001b[49m\u001b[38;5;241;43m=\u001b[39;49m\u001b[43mdownload_config\u001b[49m\u001b[43m)\u001b[49m\n\u001b[0;32m    226\u001b[0m out \u001b[38;5;241m=\u001b[39m tracked_str(out)\n\u001b[0;32m    227\u001b[0m out\u001b[38;5;241m.\u001b[39mset_origin(url_or_filename)\n",
      "File \u001b[1;32mc:\\Python\\Python311\\Lib\\site-packages\\datasets\\utils\\file_utils.py:188\u001b[0m, in \u001b[0;36mcached_path\u001b[1;34m(url_or_filename, download_config, **download_kwargs)\u001b[0m\n\u001b[0;32m    178\u001b[0m resolved_path \u001b[38;5;241m=\u001b[39m huggingface_hub\u001b[38;5;241m.\u001b[39mHfFileSystem(\n\u001b[0;32m    179\u001b[0m     endpoint\u001b[38;5;241m=\u001b[39mconfig\u001b[38;5;241m.\u001b[39mHF_ENDPOINT, token\u001b[38;5;241m=\u001b[39mdownload_config\u001b[38;5;241m.\u001b[39mtoken\n\u001b[0;32m    180\u001b[0m )\u001b[38;5;241m.\u001b[39mresolve_path(url_or_filename)\n\u001b[0;32m    181\u001b[0m \u001b[38;5;28;01mtry\u001b[39;00m:\n\u001b[0;32m    182\u001b[0m     output_path \u001b[38;5;241m=\u001b[39m \u001b[43mhuggingface_hub\u001b[49m\u001b[38;5;241;43m.\u001b[39;49m\u001b[43mHfApi\u001b[49m\u001b[43m(\u001b[49m\n\u001b[0;32m    183\u001b[0m \u001b[43m        \u001b[49m\u001b[43mendpoint\u001b[49m\u001b[38;5;241;43m=\u001b[39;49m\u001b[43mconfig\u001b[49m\u001b[38;5;241;43m.\u001b[39;49m\u001b[43mHF_ENDPOINT\u001b[49m\u001b[43m,\u001b[49m\n\u001b[0;32m    184\u001b[0m \u001b[43m        \u001b[49m\u001b[43mtoken\u001b[49m\u001b[38;5;241;43m=\u001b[39;49m\u001b[43mdownload_config\u001b[49m\u001b[38;5;241;43m.\u001b[39;49m\u001b[43mtoken\u001b[49m\u001b[43m,\u001b[49m\n\u001b[0;32m    185\u001b[0m \u001b[43m        \u001b[49m\u001b[43mlibrary_name\u001b[49m\u001b[38;5;241;43m=\u001b[39;49m\u001b[38;5;124;43m\"\u001b[39;49m\u001b[38;5;124;43mdatasets\u001b[39;49m\u001b[38;5;124;43m\"\u001b[39;49m\u001b[43m,\u001b[49m\n\u001b[0;32m    186\u001b[0m \u001b[43m        \u001b[49m\u001b[43mlibrary_version\u001b[49m\u001b[38;5;241;43m=\u001b[39;49m\u001b[43m__version__\u001b[49m\u001b[43m,\u001b[49m\n\u001b[0;32m    187\u001b[0m \u001b[43m        \u001b[49m\u001b[43muser_agent\u001b[49m\u001b[38;5;241;43m=\u001b[39;49m\u001b[43mget_datasets_user_agent\u001b[49m\u001b[43m(\u001b[49m\u001b[43mdownload_config\u001b[49m\u001b[38;5;241;43m.\u001b[39;49m\u001b[43muser_agent\u001b[49m\u001b[43m)\u001b[49m\u001b[43m,\u001b[49m\n\u001b[1;32m--> 188\u001b[0m \u001b[43m    \u001b[49m\u001b[43m)\u001b[49m\u001b[38;5;241;43m.\u001b[39;49m\u001b[43mhf_hub_download\u001b[49m\u001b[43m(\u001b[49m\n\u001b[0;32m    189\u001b[0m \u001b[43m        \u001b[49m\u001b[43mrepo_id\u001b[49m\u001b[38;5;241;43m=\u001b[39;49m\u001b[43mresolved_path\u001b[49m\u001b[38;5;241;43m.\u001b[39;49m\u001b[43mrepo_id\u001b[49m\u001b[43m,\u001b[49m\n\u001b[0;32m    190\u001b[0m \u001b[43m        \u001b[49m\u001b[43mrepo_type\u001b[49m\u001b[38;5;241;43m=\u001b[39;49m\u001b[43mresolved_path\u001b[49m\u001b[38;5;241;43m.\u001b[39;49m\u001b[43mrepo_type\u001b[49m\u001b[43m,\u001b[49m\n\u001b[0;32m    191\u001b[0m \u001b[43m        \u001b[49m\u001b[43mrevision\u001b[49m\u001b[38;5;241;43m=\u001b[39;49m\u001b[43mresolved_path\u001b[49m\u001b[38;5;241;43m.\u001b[39;49m\u001b[43mrevision\u001b[49m\u001b[43m,\u001b[49m\n\u001b[0;32m    192\u001b[0m \u001b[43m        \u001b[49m\u001b[43mfilename\u001b[49m\u001b[38;5;241;43m=\u001b[39;49m\u001b[43mresolved_path\u001b[49m\u001b[38;5;241;43m.\u001b[39;49m\u001b[43mpath_in_repo\u001b[49m\u001b[43m,\u001b[49m\n\u001b[0;32m    193\u001b[0m \u001b[43m        \u001b[49m\u001b[43mforce_download\u001b[49m\u001b[38;5;241;43m=\u001b[39;49m\u001b[43mdownload_config\u001b[49m\u001b[38;5;241;43m.\u001b[39;49m\u001b[43mforce_download\u001b[49m\u001b[43m,\u001b[49m\n\u001b[0;32m    194\u001b[0m \u001b[43m        \u001b[49m\u001b[43mproxies\u001b[49m\u001b[38;5;241;43m=\u001b[39;49m\u001b[43mdownload_config\u001b[49m\u001b[38;5;241;43m.\u001b[39;49m\u001b[43mproxies\u001b[49m\u001b[43m,\u001b[49m\n\u001b[0;32m    195\u001b[0m \u001b[43m    \u001b[49m\u001b[43m)\u001b[49m\n\u001b[0;32m    196\u001b[0m \u001b[38;5;28;01mexcept\u001b[39;00m (\n\u001b[0;32m    197\u001b[0m     huggingface_hub\u001b[38;5;241m.\u001b[39mutils\u001b[38;5;241m.\u001b[39mRepositoryNotFoundError,\n\u001b[0;32m    198\u001b[0m     huggingface_hub\u001b[38;5;241m.\u001b[39mutils\u001b[38;5;241m.\u001b[39mEntryNotFoundError,\n\u001b[0;32m    199\u001b[0m     huggingface_hub\u001b[38;5;241m.\u001b[39mutils\u001b[38;5;241m.\u001b[39mRevisionNotFoundError,\n\u001b[0;32m    200\u001b[0m     huggingface_hub\u001b[38;5;241m.\u001b[39mutils\u001b[38;5;241m.\u001b[39mGatedRepoError,\n\u001b[0;32m    201\u001b[0m ) \u001b[38;5;28;01mas\u001b[39;00m e:\n\u001b[0;32m    202\u001b[0m     \u001b[38;5;28;01mraise\u001b[39;00m \u001b[38;5;167;01mFileNotFoundError\u001b[39;00m(\u001b[38;5;28mstr\u001b[39m(e)) \u001b[38;5;28;01mfrom\u001b[39;00m \u001b[38;5;21;01me\u001b[39;00m\n",
      "File \u001b[1;32mc:\\Python\\Python311\\Lib\\site-packages\\huggingface_hub\\utils\\_validators.py:114\u001b[0m, in \u001b[0;36mvalidate_hf_hub_args.<locals>._inner_fn\u001b[1;34m(*args, **kwargs)\u001b[0m\n\u001b[0;32m    111\u001b[0m \u001b[38;5;28;01mif\u001b[39;00m check_use_auth_token:\n\u001b[0;32m    112\u001b[0m     kwargs \u001b[38;5;241m=\u001b[39m smoothly_deprecate_use_auth_token(fn_name\u001b[38;5;241m=\u001b[39mfn\u001b[38;5;241m.\u001b[39m\u001b[38;5;18m__name__\u001b[39m, has_token\u001b[38;5;241m=\u001b[39mhas_token, kwargs\u001b[38;5;241m=\u001b[39mkwargs)\n\u001b[1;32m--> 114\u001b[0m \u001b[38;5;28;01mreturn\u001b[39;00m \u001b[43mfn\u001b[49m\u001b[43m(\u001b[49m\u001b[38;5;241;43m*\u001b[39;49m\u001b[43margs\u001b[49m\u001b[43m,\u001b[49m\u001b[43m \u001b[49m\u001b[38;5;241;43m*\u001b[39;49m\u001b[38;5;241;43m*\u001b[39;49m\u001b[43mkwargs\u001b[49m\u001b[43m)\u001b[49m\n",
      "File \u001b[1;32mc:\\Python\\Python311\\Lib\\site-packages\\huggingface_hub\\hf_api.py:5548\u001b[0m, in \u001b[0;36mHfApi.hf_hub_download\u001b[1;34m(self, repo_id, filename, subfolder, repo_type, revision, cache_dir, local_dir, force_download, proxies, etag_timeout, token, local_files_only, resume_download, legacy_cache_layout, force_filename, local_dir_use_symlinks)\u001b[0m\n\u001b[0;32m   5544\u001b[0m \u001b[38;5;28;01mif\u001b[39;00m token \u001b[38;5;129;01mis\u001b[39;00m \u001b[38;5;28;01mNone\u001b[39;00m:\n\u001b[0;32m   5545\u001b[0m     \u001b[38;5;66;03m# Cannot do `token = token or self.token` as token can be `False`.\u001b[39;00m\n\u001b[0;32m   5546\u001b[0m     token \u001b[38;5;241m=\u001b[39m \u001b[38;5;28mself\u001b[39m\u001b[38;5;241m.\u001b[39mtoken\n\u001b[1;32m-> 5548\u001b[0m \u001b[38;5;28;01mreturn\u001b[39;00m \u001b[43mhf_hub_download\u001b[49m\u001b[43m(\u001b[49m\n\u001b[0;32m   5549\u001b[0m \u001b[43m    \u001b[49m\u001b[43mrepo_id\u001b[49m\u001b[38;5;241;43m=\u001b[39;49m\u001b[43mrepo_id\u001b[49m\u001b[43m,\u001b[49m\n\u001b[0;32m   5550\u001b[0m \u001b[43m    \u001b[49m\u001b[43mfilename\u001b[49m\u001b[38;5;241;43m=\u001b[39;49m\u001b[43mfilename\u001b[49m\u001b[43m,\u001b[49m\n\u001b[0;32m   5551\u001b[0m \u001b[43m    \u001b[49m\u001b[43msubfolder\u001b[49m\u001b[38;5;241;43m=\u001b[39;49m\u001b[43msubfolder\u001b[49m\u001b[43m,\u001b[49m\n\u001b[0;32m   5552\u001b[0m \u001b[43m    \u001b[49m\u001b[43mrepo_type\u001b[49m\u001b[38;5;241;43m=\u001b[39;49m\u001b[43mrepo_type\u001b[49m\u001b[43m,\u001b[49m\n\u001b[0;32m   5553\u001b[0m \u001b[43m    \u001b[49m\u001b[43mrevision\u001b[49m\u001b[38;5;241;43m=\u001b[39;49m\u001b[43mrevision\u001b[49m\u001b[43m,\u001b[49m\n\u001b[0;32m   5554\u001b[0m \u001b[43m    \u001b[49m\u001b[43mendpoint\u001b[49m\u001b[38;5;241;43m=\u001b[39;49m\u001b[38;5;28;43mself\u001b[39;49m\u001b[38;5;241;43m.\u001b[39;49m\u001b[43mendpoint\u001b[49m\u001b[43m,\u001b[49m\n\u001b[0;32m   5555\u001b[0m \u001b[43m    \u001b[49m\u001b[43mlibrary_name\u001b[49m\u001b[38;5;241;43m=\u001b[39;49m\u001b[38;5;28;43mself\u001b[39;49m\u001b[38;5;241;43m.\u001b[39;49m\u001b[43mlibrary_name\u001b[49m\u001b[43m,\u001b[49m\n\u001b[0;32m   5556\u001b[0m \u001b[43m    \u001b[49m\u001b[43mlibrary_version\u001b[49m\u001b[38;5;241;43m=\u001b[39;49m\u001b[38;5;28;43mself\u001b[39;49m\u001b[38;5;241;43m.\u001b[39;49m\u001b[43mlibrary_version\u001b[49m\u001b[43m,\u001b[49m\n\u001b[0;32m   5557\u001b[0m \u001b[43m    \u001b[49m\u001b[43mcache_dir\u001b[49m\u001b[38;5;241;43m=\u001b[39;49m\u001b[43mcache_dir\u001b[49m\u001b[43m,\u001b[49m\n\u001b[0;32m   5558\u001b[0m \u001b[43m    \u001b[49m\u001b[43mlocal_dir\u001b[49m\u001b[38;5;241;43m=\u001b[39;49m\u001b[43mlocal_dir\u001b[49m\u001b[43m,\u001b[49m\n\u001b[0;32m   5559\u001b[0m \u001b[43m    \u001b[49m\u001b[43mlocal_dir_use_symlinks\u001b[49m\u001b[38;5;241;43m=\u001b[39;49m\u001b[43mlocal_dir_use_symlinks\u001b[49m\u001b[43m,\u001b[49m\n\u001b[0;32m   5560\u001b[0m \u001b[43m    \u001b[49m\u001b[43muser_agent\u001b[49m\u001b[38;5;241;43m=\u001b[39;49m\u001b[38;5;28;43mself\u001b[39;49m\u001b[38;5;241;43m.\u001b[39;49m\u001b[43muser_agent\u001b[49m\u001b[43m,\u001b[49m\n\u001b[0;32m   5561\u001b[0m \u001b[43m    \u001b[49m\u001b[43mforce_download\u001b[49m\u001b[38;5;241;43m=\u001b[39;49m\u001b[43mforce_download\u001b[49m\u001b[43m,\u001b[49m\n\u001b[0;32m   5562\u001b[0m \u001b[43m    \u001b[49m\u001b[43mforce_filename\u001b[49m\u001b[38;5;241;43m=\u001b[39;49m\u001b[43mforce_filename\u001b[49m\u001b[43m,\u001b[49m\n\u001b[0;32m   5563\u001b[0m \u001b[43m    \u001b[49m\u001b[43mproxies\u001b[49m\u001b[38;5;241;43m=\u001b[39;49m\u001b[43mproxies\u001b[49m\u001b[43m,\u001b[49m\n\u001b[0;32m   5564\u001b[0m \u001b[43m    \u001b[49m\u001b[43metag_timeout\u001b[49m\u001b[38;5;241;43m=\u001b[39;49m\u001b[43metag_timeout\u001b[49m\u001b[43m,\u001b[49m\n\u001b[0;32m   5565\u001b[0m \u001b[43m    \u001b[49m\u001b[43mresume_download\u001b[49m\u001b[38;5;241;43m=\u001b[39;49m\u001b[43mresume_download\u001b[49m\u001b[43m,\u001b[49m\n\u001b[0;32m   5566\u001b[0m \u001b[43m    \u001b[49m\u001b[43mtoken\u001b[49m\u001b[38;5;241;43m=\u001b[39;49m\u001b[43mtoken\u001b[49m\u001b[43m,\u001b[49m\n\u001b[0;32m   5567\u001b[0m \u001b[43m    \u001b[49m\u001b[43mheaders\u001b[49m\u001b[38;5;241;43m=\u001b[39;49m\u001b[38;5;28;43mself\u001b[39;49m\u001b[38;5;241;43m.\u001b[39;49m\u001b[43mheaders\u001b[49m\u001b[43m,\u001b[49m\n\u001b[0;32m   5568\u001b[0m \u001b[43m    \u001b[49m\u001b[43mlocal_files_only\u001b[49m\u001b[38;5;241;43m=\u001b[39;49m\u001b[43mlocal_files_only\u001b[49m\u001b[43m,\u001b[49m\n\u001b[0;32m   5569\u001b[0m \u001b[43m    \u001b[49m\u001b[43mlegacy_cache_layout\u001b[49m\u001b[38;5;241;43m=\u001b[39;49m\u001b[43mlegacy_cache_layout\u001b[49m\u001b[43m,\u001b[49m\n\u001b[0;32m   5570\u001b[0m \u001b[43m\u001b[49m\u001b[43m)\u001b[49m\n",
      "File \u001b[1;32mc:\\Python\\Python311\\Lib\\site-packages\\huggingface_hub\\utils\\_deprecation.py:101\u001b[0m, in \u001b[0;36m_deprecate_arguments.<locals>._inner_deprecate_positional_args.<locals>.inner_f\u001b[1;34m(*args, **kwargs)\u001b[0m\n\u001b[0;32m     99\u001b[0m         message \u001b[38;5;241m+\u001b[39m\u001b[38;5;241m=\u001b[39m \u001b[38;5;124m\"\u001b[39m\u001b[38;5;130;01m\\n\u001b[39;00m\u001b[38;5;130;01m\\n\u001b[39;00m\u001b[38;5;124m\"\u001b[39m \u001b[38;5;241m+\u001b[39m custom_message\n\u001b[0;32m    100\u001b[0m     warnings\u001b[38;5;241m.\u001b[39mwarn(message, \u001b[38;5;167;01mFutureWarning\u001b[39;00m)\n\u001b[1;32m--> 101\u001b[0m \u001b[38;5;28;01mreturn\u001b[39;00m \u001b[43mf\u001b[49m\u001b[43m(\u001b[49m\u001b[38;5;241;43m*\u001b[39;49m\u001b[43margs\u001b[49m\u001b[43m,\u001b[49m\u001b[43m \u001b[49m\u001b[38;5;241;43m*\u001b[39;49m\u001b[38;5;241;43m*\u001b[39;49m\u001b[43mkwargs\u001b[49m\u001b[43m)\u001b[49m\n",
      "File \u001b[1;32mc:\\Python\\Python311\\Lib\\site-packages\\huggingface_hub\\utils\\_validators.py:114\u001b[0m, in \u001b[0;36mvalidate_hf_hub_args.<locals>._inner_fn\u001b[1;34m(*args, **kwargs)\u001b[0m\n\u001b[0;32m    111\u001b[0m \u001b[38;5;28;01mif\u001b[39;00m check_use_auth_token:\n\u001b[0;32m    112\u001b[0m     kwargs \u001b[38;5;241m=\u001b[39m smoothly_deprecate_use_auth_token(fn_name\u001b[38;5;241m=\u001b[39mfn\u001b[38;5;241m.\u001b[39m\u001b[38;5;18m__name__\u001b[39m, has_token\u001b[38;5;241m=\u001b[39mhas_token, kwargs\u001b[38;5;241m=\u001b[39mkwargs)\n\u001b[1;32m--> 114\u001b[0m \u001b[38;5;28;01mreturn\u001b[39;00m \u001b[43mfn\u001b[49m\u001b[43m(\u001b[49m\u001b[38;5;241;43m*\u001b[39;49m\u001b[43margs\u001b[49m\u001b[43m,\u001b[49m\u001b[43m \u001b[49m\u001b[38;5;241;43m*\u001b[39;49m\u001b[38;5;241;43m*\u001b[39;49m\u001b[43mkwargs\u001b[49m\u001b[43m)\u001b[49m\n",
      "File \u001b[1;32mc:\\Python\\Python311\\Lib\\site-packages\\huggingface_hub\\file_download.py:1232\u001b[0m, in \u001b[0;36mhf_hub_download\u001b[1;34m(repo_id, filename, subfolder, repo_type, revision, library_name, library_version, cache_dir, local_dir, user_agent, force_download, proxies, etag_timeout, token, local_files_only, headers, endpoint, legacy_cache_layout, resume_download, force_filename, local_dir_use_symlinks)\u001b[0m\n\u001b[0;32m   1212\u001b[0m     \u001b[38;5;28;01mreturn\u001b[39;00m _hf_hub_download_to_local_dir(\n\u001b[0;32m   1213\u001b[0m         \u001b[38;5;66;03m# Destination\u001b[39;00m\n\u001b[0;32m   1214\u001b[0m         local_dir\u001b[38;5;241m=\u001b[39mlocal_dir,\n\u001b[1;32m   (...)\u001b[0m\n\u001b[0;32m   1229\u001b[0m         local_files_only\u001b[38;5;241m=\u001b[39mlocal_files_only,\n\u001b[0;32m   1230\u001b[0m     )\n\u001b[0;32m   1231\u001b[0m \u001b[38;5;28;01melse\u001b[39;00m:\n\u001b[1;32m-> 1232\u001b[0m     \u001b[38;5;28;01mreturn\u001b[39;00m \u001b[43m_hf_hub_download_to_cache_dir\u001b[49m\u001b[43m(\u001b[49m\n\u001b[0;32m   1233\u001b[0m \u001b[43m        \u001b[49m\u001b[38;5;66;43;03m# Destination\u001b[39;49;00m\n\u001b[0;32m   1234\u001b[0m \u001b[43m        \u001b[49m\u001b[43mcache_dir\u001b[49m\u001b[38;5;241;43m=\u001b[39;49m\u001b[43mcache_dir\u001b[49m\u001b[43m,\u001b[49m\n\u001b[0;32m   1235\u001b[0m \u001b[43m        \u001b[49m\u001b[38;5;66;43;03m# File info\u001b[39;49;00m\n\u001b[0;32m   1236\u001b[0m \u001b[43m        \u001b[49m\u001b[43mrepo_id\u001b[49m\u001b[38;5;241;43m=\u001b[39;49m\u001b[43mrepo_id\u001b[49m\u001b[43m,\u001b[49m\n\u001b[0;32m   1237\u001b[0m \u001b[43m        \u001b[49m\u001b[43mfilename\u001b[49m\u001b[38;5;241;43m=\u001b[39;49m\u001b[43mfilename\u001b[49m\u001b[43m,\u001b[49m\n\u001b[0;32m   1238\u001b[0m \u001b[43m        \u001b[49m\u001b[43mrepo_type\u001b[49m\u001b[38;5;241;43m=\u001b[39;49m\u001b[43mrepo_type\u001b[49m\u001b[43m,\u001b[49m\n\u001b[0;32m   1239\u001b[0m \u001b[43m        \u001b[49m\u001b[43mrevision\u001b[49m\u001b[38;5;241;43m=\u001b[39;49m\u001b[43mrevision\u001b[49m\u001b[43m,\u001b[49m\n\u001b[0;32m   1240\u001b[0m \u001b[43m        \u001b[49m\u001b[38;5;66;43;03m# HTTP info\u001b[39;49;00m\n\u001b[0;32m   1241\u001b[0m \u001b[43m        \u001b[49m\u001b[43mendpoint\u001b[49m\u001b[38;5;241;43m=\u001b[39;49m\u001b[43mendpoint\u001b[49m\u001b[43m,\u001b[49m\n\u001b[0;32m   1242\u001b[0m \u001b[43m        \u001b[49m\u001b[43metag_timeout\u001b[49m\u001b[38;5;241;43m=\u001b[39;49m\u001b[43metag_timeout\u001b[49m\u001b[43m,\u001b[49m\n\u001b[0;32m   1243\u001b[0m \u001b[43m        \u001b[49m\u001b[43mheaders\u001b[49m\u001b[38;5;241;43m=\u001b[39;49m\u001b[43mheaders\u001b[49m\u001b[43m,\u001b[49m\n\u001b[0;32m   1244\u001b[0m \u001b[43m        \u001b[49m\u001b[43mproxies\u001b[49m\u001b[38;5;241;43m=\u001b[39;49m\u001b[43mproxies\u001b[49m\u001b[43m,\u001b[49m\n\u001b[0;32m   1245\u001b[0m \u001b[43m        \u001b[49m\u001b[43mtoken\u001b[49m\u001b[38;5;241;43m=\u001b[39;49m\u001b[43mtoken\u001b[49m\u001b[43m,\u001b[49m\n\u001b[0;32m   1246\u001b[0m \u001b[43m        \u001b[49m\u001b[38;5;66;43;03m# Additional options\u001b[39;49;00m\n\u001b[0;32m   1247\u001b[0m \u001b[43m        \u001b[49m\u001b[43mlocal_files_only\u001b[49m\u001b[38;5;241;43m=\u001b[39;49m\u001b[43mlocal_files_only\u001b[49m\u001b[43m,\u001b[49m\n\u001b[0;32m   1248\u001b[0m \u001b[43m        \u001b[49m\u001b[43mforce_download\u001b[49m\u001b[38;5;241;43m=\u001b[39;49m\u001b[43mforce_download\u001b[49m\u001b[43m,\u001b[49m\n\u001b[0;32m   1249\u001b[0m \u001b[43m    \u001b[49m\u001b[43m)\u001b[49m\n",
      "File \u001b[1;32mc:\\Python\\Python311\\Lib\\site-packages\\huggingface_hub\\file_download.py:1381\u001b[0m, in \u001b[0;36m_hf_hub_download_to_cache_dir\u001b[1;34m(cache_dir, repo_id, filename, repo_type, revision, endpoint, etag_timeout, headers, proxies, token, local_files_only, force_download)\u001b[0m\n\u001b[0;32m   1379\u001b[0m Path(lock_path)\u001b[38;5;241m.\u001b[39mparent\u001b[38;5;241m.\u001b[39mmkdir(parents\u001b[38;5;241m=\u001b[39m\u001b[38;5;28;01mTrue\u001b[39;00m, exist_ok\u001b[38;5;241m=\u001b[39m\u001b[38;5;28;01mTrue\u001b[39;00m)\n\u001b[0;32m   1380\u001b[0m \u001b[38;5;28;01mwith\u001b[39;00m WeakFileLock(lock_path):\n\u001b[1;32m-> 1381\u001b[0m     \u001b[43m_download_to_tmp_and_move\u001b[49m\u001b[43m(\u001b[49m\n\u001b[0;32m   1382\u001b[0m \u001b[43m        \u001b[49m\u001b[43mincomplete_path\u001b[49m\u001b[38;5;241;43m=\u001b[39;49m\u001b[43mPath\u001b[49m\u001b[43m(\u001b[49m\u001b[43mblob_path\u001b[49m\u001b[43m \u001b[49m\u001b[38;5;241;43m+\u001b[39;49m\u001b[43m \u001b[49m\u001b[38;5;124;43m\"\u001b[39;49m\u001b[38;5;124;43m.incomplete\u001b[39;49m\u001b[38;5;124;43m\"\u001b[39;49m\u001b[43m)\u001b[49m\u001b[43m,\u001b[49m\n\u001b[0;32m   1383\u001b[0m \u001b[43m        \u001b[49m\u001b[43mdestination_path\u001b[49m\u001b[38;5;241;43m=\u001b[39;49m\u001b[43mPath\u001b[49m\u001b[43m(\u001b[49m\u001b[43mblob_path\u001b[49m\u001b[43m)\u001b[49m\u001b[43m,\u001b[49m\n\u001b[0;32m   1384\u001b[0m \u001b[43m        \u001b[49m\u001b[43murl_to_download\u001b[49m\u001b[38;5;241;43m=\u001b[39;49m\u001b[43murl_to_download\u001b[49m\u001b[43m,\u001b[49m\n\u001b[0;32m   1385\u001b[0m \u001b[43m        \u001b[49m\u001b[43mproxies\u001b[49m\u001b[38;5;241;43m=\u001b[39;49m\u001b[43mproxies\u001b[49m\u001b[43m,\u001b[49m\n\u001b[0;32m   1386\u001b[0m \u001b[43m        \u001b[49m\u001b[43mheaders\u001b[49m\u001b[38;5;241;43m=\u001b[39;49m\u001b[43mheaders\u001b[49m\u001b[43m,\u001b[49m\n\u001b[0;32m   1387\u001b[0m \u001b[43m        \u001b[49m\u001b[43mexpected_size\u001b[49m\u001b[38;5;241;43m=\u001b[39;49m\u001b[43mexpected_size\u001b[49m\u001b[43m,\u001b[49m\n\u001b[0;32m   1388\u001b[0m \u001b[43m        \u001b[49m\u001b[43mfilename\u001b[49m\u001b[38;5;241;43m=\u001b[39;49m\u001b[43mfilename\u001b[49m\u001b[43m,\u001b[49m\n\u001b[0;32m   1389\u001b[0m \u001b[43m        \u001b[49m\u001b[43mforce_download\u001b[49m\u001b[38;5;241;43m=\u001b[39;49m\u001b[43mforce_download\u001b[49m\u001b[43m,\u001b[49m\n\u001b[0;32m   1390\u001b[0m \u001b[43m    \u001b[49m\u001b[43m)\u001b[49m\n\u001b[0;32m   1391\u001b[0m     \u001b[38;5;28;01mif\u001b[39;00m \u001b[38;5;129;01mnot\u001b[39;00m os\u001b[38;5;241m.\u001b[39mpath\u001b[38;5;241m.\u001b[39mexists(pointer_path):\n\u001b[0;32m   1392\u001b[0m         _create_symlink(blob_path, pointer_path, new_blob\u001b[38;5;241m=\u001b[39m\u001b[38;5;28;01mTrue\u001b[39;00m)\n",
      "File \u001b[1;32mc:\\Python\\Python311\\Lib\\site-packages\\huggingface_hub\\file_download.py:1915\u001b[0m, in \u001b[0;36m_download_to_tmp_and_move\u001b[1;34m(incomplete_path, destination_path, url_to_download, proxies, headers, expected_size, filename, force_download)\u001b[0m\n\u001b[0;32m   1912\u001b[0m         _check_disk_space(expected_size, incomplete_path\u001b[38;5;241m.\u001b[39mparent)\n\u001b[0;32m   1913\u001b[0m         _check_disk_space(expected_size, destination_path\u001b[38;5;241m.\u001b[39mparent)\n\u001b[1;32m-> 1915\u001b[0m     \u001b[43mhttp_get\u001b[49m\u001b[43m(\u001b[49m\n\u001b[0;32m   1916\u001b[0m \u001b[43m        \u001b[49m\u001b[43murl_to_download\u001b[49m\u001b[43m,\u001b[49m\n\u001b[0;32m   1917\u001b[0m \u001b[43m        \u001b[49m\u001b[43mf\u001b[49m\u001b[43m,\u001b[49m\n\u001b[0;32m   1918\u001b[0m \u001b[43m        \u001b[49m\u001b[43mproxies\u001b[49m\u001b[38;5;241;43m=\u001b[39;49m\u001b[43mproxies\u001b[49m\u001b[43m,\u001b[49m\n\u001b[0;32m   1919\u001b[0m \u001b[43m        \u001b[49m\u001b[43mresume_size\u001b[49m\u001b[38;5;241;43m=\u001b[39;49m\u001b[43mresume_size\u001b[49m\u001b[43m,\u001b[49m\n\u001b[0;32m   1920\u001b[0m \u001b[43m        \u001b[49m\u001b[43mheaders\u001b[49m\u001b[38;5;241;43m=\u001b[39;49m\u001b[43mheaders\u001b[49m\u001b[43m,\u001b[49m\n\u001b[0;32m   1921\u001b[0m \u001b[43m        \u001b[49m\u001b[43mexpected_size\u001b[49m\u001b[38;5;241;43m=\u001b[39;49m\u001b[43mexpected_size\u001b[49m\u001b[43m,\u001b[49m\n\u001b[0;32m   1922\u001b[0m \u001b[43m    \u001b[49m\u001b[43m)\u001b[49m\n\u001b[0;32m   1924\u001b[0m logger\u001b[38;5;241m.\u001b[39minfo(\u001b[38;5;124mf\u001b[39m\u001b[38;5;124m\"\u001b[39m\u001b[38;5;124mDownload complete. Moving file to \u001b[39m\u001b[38;5;132;01m{\u001b[39;00mdestination_path\u001b[38;5;132;01m}\u001b[39;00m\u001b[38;5;124m\"\u001b[39m)\n\u001b[0;32m   1925\u001b[0m _chmod_and_move(incomplete_path, destination_path)\n",
      "File \u001b[1;32mc:\\Python\\Python311\\Lib\\site-packages\\huggingface_hub\\file_download.py:541\u001b[0m, in \u001b[0;36mhttp_get\u001b[1;34m(url, temp_file, proxies, resume_size, headers, expected_size, displayed_filename, _nb_retries, _tqdm_bar)\u001b[0m\n\u001b[0;32m    539\u001b[0m new_resume_size \u001b[38;5;241m=\u001b[39m resume_size\n\u001b[0;32m    540\u001b[0m \u001b[38;5;28;01mtry\u001b[39;00m:\n\u001b[1;32m--> 541\u001b[0m \u001b[43m    \u001b[49m\u001b[38;5;28;43;01mfor\u001b[39;49;00m\u001b[43m \u001b[49m\u001b[43mchunk\u001b[49m\u001b[43m \u001b[49m\u001b[38;5;129;43;01min\u001b[39;49;00m\u001b[43m \u001b[49m\u001b[43mr\u001b[49m\u001b[38;5;241;43m.\u001b[39;49m\u001b[43miter_content\u001b[49m\u001b[43m(\u001b[49m\u001b[43mchunk_size\u001b[49m\u001b[38;5;241;43m=\u001b[39;49m\u001b[43mconstants\u001b[49m\u001b[38;5;241;43m.\u001b[39;49m\u001b[43mDOWNLOAD_CHUNK_SIZE\u001b[49m\u001b[43m)\u001b[49m\u001b[43m:\u001b[49m\n\u001b[0;32m    542\u001b[0m \u001b[43m        \u001b[49m\u001b[38;5;28;43;01mif\u001b[39;49;00m\u001b[43m \u001b[49m\u001b[43mchunk\u001b[49m\u001b[43m:\u001b[49m\u001b[43m  \u001b[49m\u001b[38;5;66;43;03m# filter out keep-alive new chunks\u001b[39;49;00m\n\u001b[0;32m    543\u001b[0m \u001b[43m            \u001b[49m\u001b[43mprogress\u001b[49m\u001b[38;5;241;43m.\u001b[39;49m\u001b[43mupdate\u001b[49m\u001b[43m(\u001b[49m\u001b[38;5;28;43mlen\u001b[39;49m\u001b[43m(\u001b[49m\u001b[43mchunk\u001b[49m\u001b[43m)\u001b[49m\u001b[43m)\u001b[49m\n",
      "File \u001b[1;32mc:\\Python\\Python311\\Lib\\site-packages\\requests\\models.py:820\u001b[0m, in \u001b[0;36mResponse.iter_content.<locals>.generate\u001b[1;34m()\u001b[0m\n\u001b[0;32m    818\u001b[0m \u001b[38;5;28;01mif\u001b[39;00m \u001b[38;5;28mhasattr\u001b[39m(\u001b[38;5;28mself\u001b[39m\u001b[38;5;241m.\u001b[39mraw, \u001b[38;5;124m\"\u001b[39m\u001b[38;5;124mstream\u001b[39m\u001b[38;5;124m\"\u001b[39m):\n\u001b[0;32m    819\u001b[0m     \u001b[38;5;28;01mtry\u001b[39;00m:\n\u001b[1;32m--> 820\u001b[0m         \u001b[38;5;28;01myield from\u001b[39;00m \u001b[38;5;28mself\u001b[39m\u001b[38;5;241m.\u001b[39mraw\u001b[38;5;241m.\u001b[39mstream(chunk_size, decode_content\u001b[38;5;241m=\u001b[39m\u001b[38;5;28;01mTrue\u001b[39;00m)\n\u001b[0;32m    821\u001b[0m     \u001b[38;5;28;01mexcept\u001b[39;00m ProtocolError \u001b[38;5;28;01mas\u001b[39;00m e:\n\u001b[0;32m    822\u001b[0m         \u001b[38;5;28;01mraise\u001b[39;00m ChunkedEncodingError(e)\n",
      "File \u001b[1;32mc:\\Python\\Python311\\Lib\\site-packages\\urllib3\\response.py:940\u001b[0m, in \u001b[0;36mHTTPResponse.stream\u001b[1;34m(self, amt, decode_content)\u001b[0m\n\u001b[0;32m    938\u001b[0m \u001b[38;5;28;01melse\u001b[39;00m:\n\u001b[0;32m    939\u001b[0m     \u001b[38;5;28;01mwhile\u001b[39;00m \u001b[38;5;129;01mnot\u001b[39;00m is_fp_closed(\u001b[38;5;28mself\u001b[39m\u001b[38;5;241m.\u001b[39m_fp) \u001b[38;5;129;01mor\u001b[39;00m \u001b[38;5;28mlen\u001b[39m(\u001b[38;5;28mself\u001b[39m\u001b[38;5;241m.\u001b[39m_decoded_buffer) \u001b[38;5;241m>\u001b[39m \u001b[38;5;241m0\u001b[39m:\n\u001b[1;32m--> 940\u001b[0m         data \u001b[38;5;241m=\u001b[39m \u001b[38;5;28;43mself\u001b[39;49m\u001b[38;5;241;43m.\u001b[39;49m\u001b[43mread\u001b[49m\u001b[43m(\u001b[49m\u001b[43mamt\u001b[49m\u001b[38;5;241;43m=\u001b[39;49m\u001b[43mamt\u001b[49m\u001b[43m,\u001b[49m\u001b[43m \u001b[49m\u001b[43mdecode_content\u001b[49m\u001b[38;5;241;43m=\u001b[39;49m\u001b[43mdecode_content\u001b[49m\u001b[43m)\u001b[49m\n\u001b[0;32m    942\u001b[0m         \u001b[38;5;28;01mif\u001b[39;00m data:\n\u001b[0;32m    943\u001b[0m             \u001b[38;5;28;01myield\u001b[39;00m data\n",
      "File \u001b[1;32mc:\\Python\\Python311\\Lib\\site-packages\\urllib3\\response.py:879\u001b[0m, in \u001b[0;36mHTTPResponse.read\u001b[1;34m(self, amt, decode_content, cache_content)\u001b[0m\n\u001b[0;32m    876\u001b[0m     \u001b[38;5;28;01mif\u001b[39;00m \u001b[38;5;28mlen\u001b[39m(\u001b[38;5;28mself\u001b[39m\u001b[38;5;241m.\u001b[39m_decoded_buffer) \u001b[38;5;241m>\u001b[39m\u001b[38;5;241m=\u001b[39m amt:\n\u001b[0;32m    877\u001b[0m         \u001b[38;5;28;01mreturn\u001b[39;00m \u001b[38;5;28mself\u001b[39m\u001b[38;5;241m.\u001b[39m_decoded_buffer\u001b[38;5;241m.\u001b[39mget(amt)\n\u001b[1;32m--> 879\u001b[0m data \u001b[38;5;241m=\u001b[39m \u001b[38;5;28;43mself\u001b[39;49m\u001b[38;5;241;43m.\u001b[39;49m\u001b[43m_raw_read\u001b[49m\u001b[43m(\u001b[49m\u001b[43mamt\u001b[49m\u001b[43m)\u001b[49m\n\u001b[0;32m    881\u001b[0m flush_decoder \u001b[38;5;241m=\u001b[39m \u001b[38;5;28;01mFalse\u001b[39;00m\n\u001b[0;32m    882\u001b[0m \u001b[38;5;28;01mif\u001b[39;00m amt \u001b[38;5;129;01mis\u001b[39;00m \u001b[38;5;28;01mNone\u001b[39;00m:\n",
      "File \u001b[1;32mc:\\Python\\Python311\\Lib\\site-packages\\urllib3\\response.py:814\u001b[0m, in \u001b[0;36mHTTPResponse._raw_read\u001b[1;34m(self, amt)\u001b[0m\n\u001b[0;32m    811\u001b[0m fp_closed \u001b[38;5;241m=\u001b[39m \u001b[38;5;28mgetattr\u001b[39m(\u001b[38;5;28mself\u001b[39m\u001b[38;5;241m.\u001b[39m_fp, \u001b[38;5;124m\"\u001b[39m\u001b[38;5;124mclosed\u001b[39m\u001b[38;5;124m\"\u001b[39m, \u001b[38;5;28;01mFalse\u001b[39;00m)\n\u001b[0;32m    813\u001b[0m \u001b[38;5;28;01mwith\u001b[39;00m \u001b[38;5;28mself\u001b[39m\u001b[38;5;241m.\u001b[39m_error_catcher():\n\u001b[1;32m--> 814\u001b[0m     data \u001b[38;5;241m=\u001b[39m \u001b[38;5;28;43mself\u001b[39;49m\u001b[38;5;241;43m.\u001b[39;49m\u001b[43m_fp_read\u001b[49m\u001b[43m(\u001b[49m\u001b[43mamt\u001b[49m\u001b[43m)\u001b[49m \u001b[38;5;28;01mif\u001b[39;00m \u001b[38;5;129;01mnot\u001b[39;00m fp_closed \u001b[38;5;28;01melse\u001b[39;00m \u001b[38;5;124mb\u001b[39m\u001b[38;5;124m\"\u001b[39m\u001b[38;5;124m\"\u001b[39m\n\u001b[0;32m    815\u001b[0m     \u001b[38;5;28;01mif\u001b[39;00m amt \u001b[38;5;129;01mis\u001b[39;00m \u001b[38;5;129;01mnot\u001b[39;00m \u001b[38;5;28;01mNone\u001b[39;00m \u001b[38;5;129;01mand\u001b[39;00m amt \u001b[38;5;241m!=\u001b[39m \u001b[38;5;241m0\u001b[39m \u001b[38;5;129;01mand\u001b[39;00m \u001b[38;5;129;01mnot\u001b[39;00m data:\n\u001b[0;32m    816\u001b[0m         \u001b[38;5;66;03m# Platform-specific: Buggy versions of Python.\u001b[39;00m\n\u001b[0;32m    817\u001b[0m         \u001b[38;5;66;03m# Close the connection when no data is returned\u001b[39;00m\n\u001b[1;32m   (...)\u001b[0m\n\u001b[0;32m    822\u001b[0m         \u001b[38;5;66;03m# not properly close the connection in all cases. There is\u001b[39;00m\n\u001b[0;32m    823\u001b[0m         \u001b[38;5;66;03m# no harm in redundantly calling close.\u001b[39;00m\n\u001b[0;32m    824\u001b[0m         \u001b[38;5;28mself\u001b[39m\u001b[38;5;241m.\u001b[39m_fp\u001b[38;5;241m.\u001b[39mclose()\n",
      "File \u001b[1;32mc:\\Python\\Python311\\Lib\\site-packages\\urllib3\\response.py:799\u001b[0m, in \u001b[0;36mHTTPResponse._fp_read\u001b[1;34m(self, amt)\u001b[0m\n\u001b[0;32m    796\u001b[0m     \u001b[38;5;28;01mreturn\u001b[39;00m buffer\u001b[38;5;241m.\u001b[39mgetvalue()\n\u001b[0;32m    797\u001b[0m \u001b[38;5;28;01melse\u001b[39;00m:\n\u001b[0;32m    798\u001b[0m     \u001b[38;5;66;03m# StringIO doesn't like amt=None\u001b[39;00m\n\u001b[1;32m--> 799\u001b[0m     \u001b[38;5;28;01mreturn\u001b[39;00m \u001b[38;5;28;43mself\u001b[39;49m\u001b[38;5;241;43m.\u001b[39;49m\u001b[43m_fp\u001b[49m\u001b[38;5;241;43m.\u001b[39;49m\u001b[43mread\u001b[49m\u001b[43m(\u001b[49m\u001b[43mamt\u001b[49m\u001b[43m)\u001b[49m \u001b[38;5;28;01mif\u001b[39;00m amt \u001b[38;5;129;01mis\u001b[39;00m \u001b[38;5;129;01mnot\u001b[39;00m \u001b[38;5;28;01mNone\u001b[39;00m \u001b[38;5;28;01melse\u001b[39;00m \u001b[38;5;28mself\u001b[39m\u001b[38;5;241m.\u001b[39m_fp\u001b[38;5;241m.\u001b[39mread()\n",
      "File \u001b[1;32mc:\\Python\\Python311\\Lib\\http\\client.py:466\u001b[0m, in \u001b[0;36mHTTPResponse.read\u001b[1;34m(self, amt)\u001b[0m\n\u001b[0;32m    463\u001b[0m \u001b[38;5;28;01mif\u001b[39;00m \u001b[38;5;28mself\u001b[39m\u001b[38;5;241m.\u001b[39mlength \u001b[38;5;129;01mis\u001b[39;00m \u001b[38;5;129;01mnot\u001b[39;00m \u001b[38;5;28;01mNone\u001b[39;00m \u001b[38;5;129;01mand\u001b[39;00m amt \u001b[38;5;241m>\u001b[39m \u001b[38;5;28mself\u001b[39m\u001b[38;5;241m.\u001b[39mlength:\n\u001b[0;32m    464\u001b[0m     \u001b[38;5;66;03m# clip the read to the \"end of response\"\u001b[39;00m\n\u001b[0;32m    465\u001b[0m     amt \u001b[38;5;241m=\u001b[39m \u001b[38;5;28mself\u001b[39m\u001b[38;5;241m.\u001b[39mlength\n\u001b[1;32m--> 466\u001b[0m s \u001b[38;5;241m=\u001b[39m \u001b[38;5;28mself\u001b[39m\u001b[38;5;241m.\u001b[39mfp\u001b[38;5;241m.\u001b[39mread(amt)\n\u001b[0;32m    467\u001b[0m \u001b[38;5;28;01mif\u001b[39;00m \u001b[38;5;129;01mnot\u001b[39;00m s \u001b[38;5;129;01mand\u001b[39;00m amt:\n\u001b[0;32m    468\u001b[0m     \u001b[38;5;66;03m# Ideally, we would raise IncompleteRead if the content-length\u001b[39;00m\n\u001b[0;32m    469\u001b[0m     \u001b[38;5;66;03m# wasn't satisfied, but it might break compatibility.\u001b[39;00m\n\u001b[0;32m    470\u001b[0m     \u001b[38;5;28mself\u001b[39m\u001b[38;5;241m.\u001b[39m_close_conn()\n",
      "File \u001b[1;32mc:\\Python\\Python311\\Lib\\socket.py:706\u001b[0m, in \u001b[0;36mSocketIO.readinto\u001b[1;34m(self, b)\u001b[0m\n\u001b[0;32m    704\u001b[0m \u001b[38;5;28;01mwhile\u001b[39;00m \u001b[38;5;28;01mTrue\u001b[39;00m:\n\u001b[0;32m    705\u001b[0m     \u001b[38;5;28;01mtry\u001b[39;00m:\n\u001b[1;32m--> 706\u001b[0m         \u001b[38;5;28;01mreturn\u001b[39;00m \u001b[38;5;28;43mself\u001b[39;49m\u001b[38;5;241;43m.\u001b[39;49m\u001b[43m_sock\u001b[49m\u001b[38;5;241;43m.\u001b[39;49m\u001b[43mrecv_into\u001b[49m\u001b[43m(\u001b[49m\u001b[43mb\u001b[49m\u001b[43m)\u001b[49m\n\u001b[0;32m    707\u001b[0m     \u001b[38;5;28;01mexcept\u001b[39;00m timeout:\n\u001b[0;32m    708\u001b[0m         \u001b[38;5;28mself\u001b[39m\u001b[38;5;241m.\u001b[39m_timeout_occurred \u001b[38;5;241m=\u001b[39m \u001b[38;5;28;01mTrue\u001b[39;00m\n",
      "File \u001b[1;32mc:\\Python\\Python311\\Lib\\ssl.py:1278\u001b[0m, in \u001b[0;36mSSLSocket.recv_into\u001b[1;34m(self, buffer, nbytes, flags)\u001b[0m\n\u001b[0;32m   1274\u001b[0m     \u001b[38;5;28;01mif\u001b[39;00m flags \u001b[38;5;241m!=\u001b[39m \u001b[38;5;241m0\u001b[39m:\n\u001b[0;32m   1275\u001b[0m         \u001b[38;5;28;01mraise\u001b[39;00m \u001b[38;5;167;01mValueError\u001b[39;00m(\n\u001b[0;32m   1276\u001b[0m           \u001b[38;5;124m\"\u001b[39m\u001b[38;5;124mnon-zero flags not allowed in calls to recv_into() on \u001b[39m\u001b[38;5;132;01m%s\u001b[39;00m\u001b[38;5;124m\"\u001b[39m \u001b[38;5;241m%\u001b[39m\n\u001b[0;32m   1277\u001b[0m           \u001b[38;5;28mself\u001b[39m\u001b[38;5;241m.\u001b[39m\u001b[38;5;18m__class__\u001b[39m)\n\u001b[1;32m-> 1278\u001b[0m     \u001b[38;5;28;01mreturn\u001b[39;00m \u001b[38;5;28;43mself\u001b[39;49m\u001b[38;5;241;43m.\u001b[39;49m\u001b[43mread\u001b[49m\u001b[43m(\u001b[49m\u001b[43mnbytes\u001b[49m\u001b[43m,\u001b[49m\u001b[43m \u001b[49m\u001b[43mbuffer\u001b[49m\u001b[43m)\u001b[49m\n\u001b[0;32m   1279\u001b[0m \u001b[38;5;28;01melse\u001b[39;00m:\n\u001b[0;32m   1280\u001b[0m     \u001b[38;5;28;01mreturn\u001b[39;00m \u001b[38;5;28msuper\u001b[39m()\u001b[38;5;241m.\u001b[39mrecv_into(buffer, nbytes, flags)\n",
      "File \u001b[1;32mc:\\Python\\Python311\\Lib\\ssl.py:1134\u001b[0m, in \u001b[0;36mSSLSocket.read\u001b[1;34m(self, len, buffer)\u001b[0m\n\u001b[0;32m   1132\u001b[0m \u001b[38;5;28;01mtry\u001b[39;00m:\n\u001b[0;32m   1133\u001b[0m     \u001b[38;5;28;01mif\u001b[39;00m buffer \u001b[38;5;129;01mis\u001b[39;00m \u001b[38;5;129;01mnot\u001b[39;00m \u001b[38;5;28;01mNone\u001b[39;00m:\n\u001b[1;32m-> 1134\u001b[0m         \u001b[38;5;28;01mreturn\u001b[39;00m \u001b[38;5;28;43mself\u001b[39;49m\u001b[38;5;241;43m.\u001b[39;49m\u001b[43m_sslobj\u001b[49m\u001b[38;5;241;43m.\u001b[39;49m\u001b[43mread\u001b[49m\u001b[43m(\u001b[49m\u001b[38;5;28;43mlen\u001b[39;49m\u001b[43m,\u001b[49m\u001b[43m \u001b[49m\u001b[43mbuffer\u001b[49m\u001b[43m)\u001b[49m\n\u001b[0;32m   1135\u001b[0m     \u001b[38;5;28;01melse\u001b[39;00m:\n\u001b[0;32m   1136\u001b[0m         \u001b[38;5;28;01mreturn\u001b[39;00m \u001b[38;5;28mself\u001b[39m\u001b[38;5;241m.\u001b[39m_sslobj\u001b[38;5;241m.\u001b[39mread(\u001b[38;5;28mlen\u001b[39m)\n",
      "\u001b[1;31mKeyboardInterrupt\u001b[0m: "
     ]
    }
   ],
   "source": [
    "import numpy as np\n",
    "from datasets import load_dataset\n",
    "\n",
    "\n",
    "# Load the dataset with the `large_random_1k` subset\n",
    "dataset = load_dataset('poloclub/diffusiondb', 'large_random_1k', trust_remote_code=True)"
   ]
  },
  {
   "cell_type": "code",
   "execution_count": 1,
   "metadata": {},
   "outputs": [],
   "source": [
    "from urllib.request import urlretrieve\n",
    "import pandas as pd\n",
    "\n",
    "# Download the parquet table\n",
    "table_url = f'https://huggingface.co/datasets/poloclub/diffusiondb/resolve/main/metadata.parquet'\n",
    "urlretrieve(table_url, 'metadata.parquet')\n",
    "\n",
    "# Read the table using Pandas\n",
    "metadata_df = pd.read_parquet('metadata.parquet')"
   ]
  },
  {
   "cell_type": "code",
   "execution_count": 2,
   "metadata": {},
   "outputs": [
    {
     "data": {
      "text/plain": [
       "11"
      ]
     },
     "execution_count": 2,
     "metadata": {},
     "output_type": "execute_result"
    }
   ],
   "source": [
    "# get image \"de640f9c-2968-4a80-9020-4bb905b9bb52.png\" from metadata_df\n",
    "image_name = \"de640f9c-2968-4a80-9020-4bb905b9bb52.png\"\n",
    "image_row = metadata_df[metadata_df['image_name'] == image_name]\n",
    "len(image_row['prompt'].values[0])"
   ]
  },
  {
   "cell_type": "code",
   "execution_count": 3,
   "metadata": {},
   "outputs": [
    {
     "data": {
      "text/html": [
       "<div>\n",
       "<style scoped>\n",
       "    .dataframe tbody tr th:only-of-type {\n",
       "        vertical-align: middle;\n",
       "    }\n",
       "\n",
       "    .dataframe tbody tr th {\n",
       "        vertical-align: top;\n",
       "    }\n",
       "\n",
       "    .dataframe thead th {\n",
       "        text-align: right;\n",
       "    }\n",
       "</style>\n",
       "<table border=\"1\" class=\"dataframe\">\n",
       "  <thead>\n",
       "    <tr style=\"text-align: right;\">\n",
       "      <th></th>\n",
       "      <th>image_name</th>\n",
       "      <th>prompt</th>\n",
       "      <th>part_id</th>\n",
       "      <th>seed</th>\n",
       "      <th>step</th>\n",
       "      <th>cfg</th>\n",
       "      <th>sampler</th>\n",
       "      <th>width</th>\n",
       "      <th>height</th>\n",
       "      <th>user_name</th>\n",
       "      <th>timestamp</th>\n",
       "      <th>image_nsfw</th>\n",
       "      <th>prompt_nsfw</th>\n",
       "    </tr>\n",
       "  </thead>\n",
       "  <tbody>\n",
       "    <tr>\n",
       "      <th>0</th>\n",
       "      <td>2217ccbd-a1c6-47ac-9a2d-79649727c834.png</td>\n",
       "      <td>a portrait of a female robot made from code, v...</td>\n",
       "      <td>1</td>\n",
       "      <td>2615452544</td>\n",
       "      <td>50</td>\n",
       "      <td>7.0</td>\n",
       "      <td>8</td>\n",
       "      <td>512</td>\n",
       "      <td>512</td>\n",
       "      <td>0167cc490c3dc6047be855b096a9b9d8f20e2b034532bd...</td>\n",
       "      <td>2022-08-20 11:56:00+00:00</td>\n",
       "      <td>0.554853</td>\n",
       "      <td>0.001621</td>\n",
       "    </tr>\n",
       "    <tr>\n",
       "      <th>1</th>\n",
       "      <td>c78807b7-d55a-4a2d-a6b6-9192b18941ad.png</td>\n",
       "      <td>a portrait of a female robot made from a cloud...</td>\n",
       "      <td>1</td>\n",
       "      <td>4231506957</td>\n",
       "      <td>50</td>\n",
       "      <td>7.0</td>\n",
       "      <td>8</td>\n",
       "      <td>512</td>\n",
       "      <td>512</td>\n",
       "      <td>0167cc490c3dc6047be855b096a9b9d8f20e2b034532bd...</td>\n",
       "      <td>2022-08-20 11:59:00+00:00</td>\n",
       "      <td>0.153645</td>\n",
       "      <td>0.000707</td>\n",
       "    </tr>\n",
       "    <tr>\n",
       "      <th>2</th>\n",
       "      <td>dc71658a-5e4b-4dca-861a-e1535510348b.png</td>\n",
       "      <td>only memories remain, trending on artstation</td>\n",
       "      <td>1</td>\n",
       "      <td>544607824</td>\n",
       "      <td>50</td>\n",
       "      <td>7.0</td>\n",
       "      <td>8</td>\n",
       "      <td>512</td>\n",
       "      <td>512</td>\n",
       "      <td>0167cc490c3dc6047be855b096a9b9d8f20e2b034532bd...</td>\n",
       "      <td>2022-08-20 12:02:00+00:00</td>\n",
       "      <td>0.062496</td>\n",
       "      <td>0.000425</td>\n",
       "    </tr>\n",
       "    <tr>\n",
       "      <th>3</th>\n",
       "      <td>48eb7e17-a3cf-4eb8-96a9-d8e3e23fa1af.png</td>\n",
       "      <td>dream swimming pool with nobody</td>\n",
       "      <td>1</td>\n",
       "      <td>3500509234</td>\n",
       "      <td>50</td>\n",
       "      <td>7.0</td>\n",
       "      <td>8</td>\n",
       "      <td>512</td>\n",
       "      <td>512</td>\n",
       "      <td>019084defdd44d2dfcd200bf7aaae53034263168e10d6b...</td>\n",
       "      <td>2022-08-20 07:22:00+00:00</td>\n",
       "      <td>0.030799</td>\n",
       "      <td>0.003586</td>\n",
       "    </tr>\n",
       "    <tr>\n",
       "      <th>4</th>\n",
       "      <td>601d9792-eccd-4850-97a7-edbe91d3464c.png</td>\n",
       "      <td>a dog doing weights. epic oil painting.</td>\n",
       "      <td>1</td>\n",
       "      <td>1312381211</td>\n",
       "      <td>50</td>\n",
       "      <td>12.0</td>\n",
       "      <td>8</td>\n",
       "      <td>512</td>\n",
       "      <td>768</td>\n",
       "      <td>03cb377ebf364ea2761b5710625974c0d2d25285fec982...</td>\n",
       "      <td>2022-08-20 12:28:00+00:00</td>\n",
       "      <td>0.181035</td>\n",
       "      <td>0.030822</td>\n",
       "    </tr>\n",
       "  </tbody>\n",
       "</table>\n",
       "</div>"
      ],
      "text/plain": [
       "                                 image_name  \\\n",
       "0  2217ccbd-a1c6-47ac-9a2d-79649727c834.png   \n",
       "1  c78807b7-d55a-4a2d-a6b6-9192b18941ad.png   \n",
       "2  dc71658a-5e4b-4dca-861a-e1535510348b.png   \n",
       "3  48eb7e17-a3cf-4eb8-96a9-d8e3e23fa1af.png   \n",
       "4  601d9792-eccd-4850-97a7-edbe91d3464c.png   \n",
       "\n",
       "                                              prompt  part_id        seed  \\\n",
       "0  a portrait of a female robot made from code, v...        1  2615452544   \n",
       "1  a portrait of a female robot made from a cloud...        1  4231506957   \n",
       "2      only memories remain, trending on artstation         1   544607824   \n",
       "3                   dream swimming pool with nobody         1  3500509234   \n",
       "4           a dog doing weights. epic oil painting.         1  1312381211   \n",
       "\n",
       "   step   cfg  sampler  width  height  \\\n",
       "0    50   7.0        8    512     512   \n",
       "1    50   7.0        8    512     512   \n",
       "2    50   7.0        8    512     512   \n",
       "3    50   7.0        8    512     512   \n",
       "4    50  12.0        8    512     768   \n",
       "\n",
       "                                           user_name  \\\n",
       "0  0167cc490c3dc6047be855b096a9b9d8f20e2b034532bd...   \n",
       "1  0167cc490c3dc6047be855b096a9b9d8f20e2b034532bd...   \n",
       "2  0167cc490c3dc6047be855b096a9b9d8f20e2b034532bd...   \n",
       "3  019084defdd44d2dfcd200bf7aaae53034263168e10d6b...   \n",
       "4  03cb377ebf364ea2761b5710625974c0d2d25285fec982...   \n",
       "\n",
       "                  timestamp  image_nsfw  prompt_nsfw  \n",
       "0 2022-08-20 11:56:00+00:00    0.554853     0.001621  \n",
       "1 2022-08-20 11:59:00+00:00    0.153645     0.000707  \n",
       "2 2022-08-20 12:02:00+00:00    0.062496     0.000425  \n",
       "3 2022-08-20 07:22:00+00:00    0.030799     0.003586  \n",
       "4 2022-08-20 12:28:00+00:00    0.181035     0.030822  "
      ]
     },
     "execution_count": 3,
     "metadata": {},
     "output_type": "execute_result"
    }
   ],
   "source": [
    "metadata_df.head()"
   ]
  },
  {
   "cell_type": "code",
   "execution_count": 4,
   "metadata": {},
   "outputs": [
    {
     "name": "stdout",
     "output_type": "stream",
     "text": [
      "[   1    2    3 ... 1998 1999 2000]\n"
     ]
    }
   ],
   "source": [
    "# print all unique parts in the parts column\n",
    "print(metadata_df['part_id'].unique())\n",
    "def word_count(prompt):\n",
    "    return len(prompt.split())"
   ]
  },
  {
   "cell_type": "code",
   "execution_count": 5,
   "metadata": {},
   "outputs": [
    {
     "data": {
      "text/plain": [
       "<Axes: title={'center': 'Histogram of Prompt Lengths'}, ylabel='Frequency'>"
      ]
     },
     "execution_count": 5,
     "metadata": {},
     "output_type": "execute_result"
    },
    {
     "data": {
      "image/png": "[encoded data removed]",
      "text/plain": [
       "<Figure size 640x480 with 1 Axes>"
      ]
     },
     "metadata": {},
     "output_type": "display_data"
    }
   ],
   "source": [
    "# metadata_df[\"prompt\"]\n",
    "metadata_df[\"prompt_length\"] = metadata_df[\"prompt\"].apply(word_count)\n",
    "metadata_df[\"prompt_length\"].plot(kind='hist', bins=100, title='Histogram of Prompt Lengths')"
   ]
  },
  {
   "cell_type": "code",
   "execution_count": 6,
   "metadata": {},
   "outputs": [
    {
     "data": {
      "image/png": "[encoded data removed]",
      "text/plain": [
       "<Figure size 1000x600 with 1 Axes>"
      ]
     },
     "metadata": {},
     "output_type": "display_data"
    }
   ],
   "source": [
    "import matplotlib.pyplot as plt\n",
    "\n",
    "# Filter the dataframe to include only prompts with length below 30\n",
    "filtered_df = metadata_df[metadata_df['prompt_length'] < 30]\n",
    "# Filter the dataframe for images with image NSFW and prompt NSFW scores lower than 0.2\n",
    "filtered_nsfw_df = filtered_df[(filtered_df['image_nsfw'] < 0.2) & (filtered_df['prompt_nsfw'] < 0.2)]\n",
    "\n",
    "# Plot the histogram\n",
    "plt.figure(figsize=(10, 6))\n",
    "plt.hist(filtered_nsfw_df['prompt_length'], bins=30, edgecolor='black')\n",
    "plt.title('Histogram of Prompt Lengths (Below 30)')\n",
    "plt.xlabel('Prompt Length')\n",
    "plt.ylabel('Frequency')\n",
    "plt.show()"
   ]
  },
  {
   "cell_type": "code",
   "execution_count": 7,
   "metadata": {},
   "outputs": [
    {
     "name": "stdout",
     "output_type": "stream",
     "text": [
      "1008775 833563\n"
     ]
    },
    {
     "data": {
      "image/png": "[encoded data removed]",
      "text/plain": [
       "<Figure size 1000x600 with 1 Axes>"
      ]
     },
     "metadata": {},
     "output_type": "display_data"
    }
   ],
   "source": [
    "# filter the dataframe to remove dups in the prompt column, save the duplicate with the highest cfg score\n",
    "filtered_df = filtered_nsfw_df.sort_values('cfg', ascending=False).drop_duplicates('prompt').sort_index()\n",
    "print(len(filtered_nsfw_df), len(filtered_df))\n",
    "# Plot the histogram\n",
    "plt.figure(figsize=(10, 6))\n",
    "plt.hist(filtered_df['prompt_length'], bins=30, edgecolor='black')\n",
    "plt.title('Histogram of Prompt Lengths (Below 30)')\n",
    "plt.xlabel('Prompt Length')\n",
    "plt.ylabel('Frequency')\n",
    "plt.show()"
   ]
  },
  {
   "cell_type": "code",
   "execution_count": 8,
   "metadata": {},
   "outputs": [],
   "source": [
    "filtered_nsfw_df = filtered_df\n",
    "filtered_nsfw_df_pre_cfg = filtered_nsfw_df"
   ]
  },
  {
   "cell_type": "code",
   "execution_count": 9,
   "metadata": {},
   "outputs": [
    {
     "name": "stdout",
     "output_type": "stream",
     "text": [
      "count    833563.000000\n",
      "mean          8.395198\n",
      "std         196.231216\n",
      "min      -10000.000000\n",
      "25%           7.000000\n",
      "50%           7.000000\n",
      "75%           7.000000\n",
      "max      100000.000000\n",
      "Name: cfg, dtype: float64\n",
      "count    112956.000000\n",
      "mean         12.197826\n",
      "std           3.167848\n",
      "min           8.000000\n",
      "25%          10.000000\n",
      "50%          12.000000\n",
      "75%          15.000000\n",
      "max          20.000000\n",
      "Name: cfg, dtype: float64\n"
     ]
    },
    {
     "data": {
      "image/png": "[encoded data removed]",
      "text/plain": [
       "<Figure size 1000x600 with 1 Axes>"
      ]
     },
     "metadata": {},
     "output_type": "display_data"
    }
   ],
   "source": [
    "# plot cfg score of the images in the filtered_nsfw_df\n",
    "print(filtered_nsfw_df['cfg'].describe())\n",
    "# only take the images with cfg score between 0 and 20\n",
    "filtered_nsfw_df = filtered_nsfw_df[(filtered_nsfw_df['cfg'] >= 8) & (filtered_nsfw_df['cfg'] <= 20)]\n",
    "print(filtered_nsfw_df['cfg'].describe())\n",
    "\n",
    "\n",
    "plt.figure(figsize=(10, 6))\n",
    "plt.hist(filtered_nsfw_df['cfg'], bins=30, edgecolor='black')\n",
    "plt.title('Histogram of CFG Scores')\n",
    "plt.xlabel('CFG Score')\n",
    "plt.ylabel('Frequency')\n",
    "plt.show()\n",
    "\n"
   ]
  },
  {
   "cell_type": "code",
   "execution_count": 10,
   "metadata": {},
   "outputs": [
    {
     "name": "stdout",
     "output_type": "stream",
     "text": [
      "part_id\n",
      "305     188\n",
      "1534    143\n",
      "1655    140\n",
      "1239    132\n",
      "1719    129\n",
      "Name: count, dtype: int64\n"
     ]
    }
   ],
   "source": [
    "\n",
    "# show the part_ids which contains the most images with promplength between 4 and 20\n",
    "most_common_part_ids = filtered_nsfw_df[filtered_nsfw_df['prompt_length'].between(4, 20)]['part_id'].value_counts().head()\n",
    "print(most_common_part_ids)"
   ]
  },
  {
   "cell_type": "code",
   "execution_count": 11,
   "metadata": {},
   "outputs": [],
   "source": [
    "# # filter by sampler - only take DDIM and Euler samplers, which are 1, 4 and 5 \n",
    "# filtered_nsfw_df = filtered_nsfw_df[filtered_nsfw_df['sampler'].isin([1, 4, 5])]\n",
    "# print(filtered_nsfw_df['sampler'].value_counts())\n",
    "\n",
    "\n"
   ]
  },
  {
   "cell_type": "code",
   "execution_count": 12,
   "metadata": {},
   "outputs": [],
   "source": [
    "# save only the prompts to a file, indexed by image name\n",
    "filtered_nsfw_df[['image_name', 'prompt']].to_csv('prompts.csv', index=False)\n"
   ]
  },
  {
   "cell_type": "code",
   "execution_count": 17,
   "metadata": {},
   "outputs": [
    {
     "name": "stdout",
     "output_type": "stream",
     "text": [
      "71820\n"
     ]
    },
    {
     "data": {
      "text/html": [
       "<div>\n",
       "<style scoped>\n",
       "    .dataframe tbody tr th:only-of-type {\n",
       "        vertical-align: middle;\n",
       "    }\n",
       "\n",
       "    .dataframe tbody tr th {\n",
       "        vertical-align: top;\n",
       "    }\n",
       "\n",
       "    .dataframe thead th {\n",
       "        text-align: right;\n",
       "    }\n",
       "</style>\n",
       "<table border=\"1\" class=\"dataframe\">\n",
       "  <thead>\n",
       "    <tr style=\"text-align: right;\">\n",
       "      <th></th>\n",
       "      <th>image_name</th>\n",
       "      <th>prompt</th>\n",
       "      <th>part_id</th>\n",
       "      <th>seed</th>\n",
       "      <th>step</th>\n",
       "      <th>cfg</th>\n",
       "      <th>sampler</th>\n",
       "      <th>width</th>\n",
       "      <th>height</th>\n",
       "      <th>user_name</th>\n",
       "      <th>timestamp</th>\n",
       "      <th>image_nsfw</th>\n",
       "      <th>prompt_nsfw</th>\n",
       "      <th>prompt_length</th>\n",
       "    </tr>\n",
       "  </thead>\n",
       "  <tbody>\n",
       "    <tr>\n",
       "      <th>0</th>\n",
       "      <td>601d9792-eccd-4850-97a7-edbe91d3464c.png</td>\n",
       "      <td>a dog doing weights. epic oil painting.</td>\n",
       "      <td>1</td>\n",
       "      <td>1312381211</td>\n",
       "      <td>50</td>\n",
       "      <td>12.0</td>\n",
       "      <td>8</td>\n",
       "      <td>512</td>\n",
       "      <td>768</td>\n",
       "      <td>03cb377ebf364ea2761b5710625974c0d2d25285fec982...</td>\n",
       "      <td>2022-08-20 12:28:00+00:00</td>\n",
       "      <td>0.181035</td>\n",
       "      <td>0.030822</td>\n",
       "      <td>7</td>\n",
       "    </tr>\n",
       "    <tr>\n",
       "      <th>1</th>\n",
       "      <td>a5ec307e-7e7b-4740-ad70-9bdb6f417bd1.png</td>\n",
       "      <td>yoji shinkawa painting of a stylish sniper demon</td>\n",
       "      <td>1</td>\n",
       "      <td>2038333716</td>\n",
       "      <td>50</td>\n",
       "      <td>12.0</td>\n",
       "      <td>8</td>\n",
       "      <td>512</td>\n",
       "      <td>768</td>\n",
       "      <td>03cb377ebf364ea2761b5710625974c0d2d25285fec982...</td>\n",
       "      <td>2022-08-20 12:34:00+00:00</td>\n",
       "      <td>0.078747</td>\n",
       "      <td>0.029799</td>\n",
       "      <td>8</td>\n",
       "    </tr>\n",
       "    <tr>\n",
       "      <th>2</th>\n",
       "      <td>8a51dbc0-73fd-4a42-9304-4ea0875cf907.png</td>\n",
       "      <td>a very drunk person named aaron, sharp focus, ...</td>\n",
       "      <td>1</td>\n",
       "      <td>1602144611</td>\n",
       "      <td>50</td>\n",
       "      <td>10.0</td>\n",
       "      <td>8</td>\n",
       "      <td>704</td>\n",
       "      <td>512</td>\n",
       "      <td>09f626452626d3160635d5701406375e263939584f48af...</td>\n",
       "      <td>2022-08-20 06:46:00+00:00</td>\n",
       "      <td>0.025164</td>\n",
       "      <td>0.130819</td>\n",
       "      <td>16</td>\n",
       "    </tr>\n",
       "    <tr>\n",
       "      <th>3</th>\n",
       "      <td>7f900636-982d-46a4-977b-7fe64b944d17.png</td>\n",
       "      <td>book cover illustration, art by gerald brom, o...</td>\n",
       "      <td>1</td>\n",
       "      <td>3601922926</td>\n",
       "      <td>50</td>\n",
       "      <td>14.5</td>\n",
       "      <td>8</td>\n",
       "      <td>640</td>\n",
       "      <td>512</td>\n",
       "      <td>0c763dc0d94f5dc846868fdf51724dba283ca9ae3daa6c...</td>\n",
       "      <td>2022-08-20 11:43:00+00:00</td>\n",
       "      <td>0.122356</td>\n",
       "      <td>0.000775</td>\n",
       "      <td>29</td>\n",
       "    </tr>\n",
       "    <tr>\n",
       "      <th>4</th>\n",
       "      <td>1e88df35-4ac6-4350-bb32-41c09a22d7a4.png</td>\n",
       "      <td>geodesic dreams of buckminster fuller, by arts...</td>\n",
       "      <td>1</td>\n",
       "      <td>3529786060</td>\n",
       "      <td>50</td>\n",
       "      <td>10.0</td>\n",
       "      <td>8</td>\n",
       "      <td>896</td>\n",
       "      <td>512</td>\n",
       "      <td>0cffabb468fc6047499fb5f498012d24c984b113f22681...</td>\n",
       "      <td>2022-08-20 12:01:00+00:00</td>\n",
       "      <td>0.160753</td>\n",
       "      <td>0.002423</td>\n",
       "      <td>17</td>\n",
       "    </tr>\n",
       "  </tbody>\n",
       "</table>\n",
       "</div>"
      ],
      "text/plain": [
       "                                 image_name  \\\n",
       "0  601d9792-eccd-4850-97a7-edbe91d3464c.png   \n",
       "1  a5ec307e-7e7b-4740-ad70-9bdb6f417bd1.png   \n",
       "2  8a51dbc0-73fd-4a42-9304-4ea0875cf907.png   \n",
       "3  7f900636-982d-46a4-977b-7fe64b944d17.png   \n",
       "4  1e88df35-4ac6-4350-bb32-41c09a22d7a4.png   \n",
       "\n",
       "                                              prompt  part_id        seed  \\\n",
       "0           a dog doing weights. epic oil painting.         1  1312381211   \n",
       "1  yoji shinkawa painting of a stylish sniper demon         1  2038333716   \n",
       "2  a very drunk person named aaron, sharp focus, ...        1  1602144611   \n",
       "3  book cover illustration, art by gerald brom, o...        1  3601922926   \n",
       "4  geodesic dreams of buckminster fuller, by arts...        1  3529786060   \n",
       "\n",
       "   step   cfg  sampler  width  height  \\\n",
       "0    50  12.0        8    512     768   \n",
       "1    50  12.0        8    512     768   \n",
       "2    50  10.0        8    704     512   \n",
       "3    50  14.5        8    640     512   \n",
       "4    50  10.0        8    896     512   \n",
       "\n",
       "                                           user_name  \\\n",
       "0  03cb377ebf364ea2761b5710625974c0d2d25285fec982...   \n",
       "1  03cb377ebf364ea2761b5710625974c0d2d25285fec982...   \n",
       "2  09f626452626d3160635d5701406375e263939584f48af...   \n",
       "3  0c763dc0d94f5dc846868fdf51724dba283ca9ae3daa6c...   \n",
       "4  0cffabb468fc6047499fb5f498012d24c984b113f22681...   \n",
       "\n",
       "                   timestamp  image_nsfw  prompt_nsfw  prompt_length  \n",
       "0  2022-08-20 12:28:00+00:00    0.181035     0.030822              7  \n",
       "1  2022-08-20 12:34:00+00:00    0.078747     0.029799              8  \n",
       "2  2022-08-20 06:46:00+00:00    0.025164     0.130819             16  \n",
       "3  2022-08-20 11:43:00+00:00    0.122356     0.000775             29  \n",
       "4  2022-08-20 12:01:00+00:00    0.160753     0.002423             17  "
      ]
     },
     "execution_count": 17,
     "metadata": {},
     "output_type": "execute_result"
    }
   ],
   "source": [
    "# read result_df from csv \n",
    "result_df = pd.read_csv('prompts_filtered.csv')\n",
    "print(len(result_df))\n",
    "result_df.head()\n"
   ]
  },
  {
   "cell_type": "code",
   "execution_count": null,
   "metadata": {},
   "outputs": [
    {
     "name": "stdout",
     "output_type": "stream",
     "text": [
      "Processed 0 out of 107817 prompts.\n",
      "Processed 1000 out of 107817 prompts.\n",
      "Processed 2000 out of 107817 prompts.\n",
      "Processed 3000 out of 107817 prompts.\n",
      "Processed 4000 out of 107817 prompts.\n",
      "Processed 5000 out of 107817 prompts.\n",
      "Processed 6000 out of 107817 prompts.\n",
      "Processed 7000 out of 107817 prompts.\n",
      "Processed 8000 out of 107817 prompts.\n",
      "Processed 9000 out of 107817 prompts.\n",
      "Processed 10000 out of 107817 prompts.\n",
      "Processed 11000 out of 107817 prompts.\n",
      "Processed 12000 out of 107817 prompts.\n",
      "Processed 13000 out of 107817 prompts.\n",
      "Processed 14000 out of 107817 prompts.\n",
      "Processed 15000 out of 107817 prompts.\n",
      "Processed 16000 out of 107817 prompts.\n",
      "Processed 17000 out of 107817 prompts.\n",
      "Processed 18000 out of 107817 prompts.\n",
      "Processed 19000 out of 107817 prompts.\n",
      "Processed 20000 out of 107817 prompts.\n",
      "Processed 21000 out of 107817 prompts.\n",
      "Processed 22000 out of 107817 prompts.\n",
      "Processed 23000 out of 107817 prompts.\n",
      "Processed 24000 out of 107817 prompts.\n",
      "Processed 25000 out of 107817 prompts.\n",
      "Processed 26000 out of 107817 prompts.\n",
      "Processed 27000 out of 107817 prompts.\n",
      "Processed 28000 out of 107817 prompts.\n",
      "Processed 29000 out of 107817 prompts.\n",
      "Processed 30000 out of 107817 prompts.\n",
      "Processed 31000 out of 107817 prompts.\n",
      "Processed 32000 out of 107817 prompts.\n",
      "Processed 33000 out of 107817 prompts.\n",
      "Processed 34000 out of 107817 prompts.\n",
      "Processed 35000 out of 107817 prompts.\n",
      "Processed 36000 out of 107817 prompts.\n",
      "Processed 37000 out of 107817 prompts.\n",
      "Processed 38000 out of 107817 prompts.\n",
      "Processed 39000 out of 107817 prompts.\n",
      "Processed 40000 out of 107817 prompts.\n",
      "Processed 41000 out of 107817 prompts.\n",
      "Processed 42000 out of 107817 prompts.\n",
      "Processed 43000 out of 107817 prompts.\n",
      "Processed 44000 out of 107817 prompts.\n",
      "Processed 45000 out of 107817 prompts.\n",
      "Processed 46000 out of 107817 prompts.\n",
      "Processed 47000 out of 107817 prompts.\n",
      "Processed 48000 out of 107817 prompts.\n",
      "Processed 49000 out of 107817 prompts.\n",
      "Processed 50000 out of 107817 prompts.\n",
      "Processed 51000 out of 107817 prompts.\n",
      "Processed 52000 out of 107817 prompts.\n",
      "Processed 53000 out of 107817 prompts.\n",
      "Processed 54000 out of 107817 prompts.\n",
      "Processed 55000 out of 107817 prompts.\n",
      "Processed 56000 out of 107817 prompts.\n",
      "Processed 57000 out of 107817 prompts.\n",
      "Processed 58000 out of 107817 prompts.\n",
      "Processed 59000 out of 107817 prompts.\n",
      "Processed 60000 out of 107817 prompts.\n",
      "Processed 61000 out of 107817 prompts.\n",
      "Processed 62000 out of 107817 prompts.\n",
      "Processed 63000 out of 107817 prompts.\n",
      "Processed 64000 out of 107817 prompts.\n",
      "Processed 65000 out of 107817 prompts.\n",
      "Processed 66000 out of 107817 prompts.\n",
      "Processed 67000 out of 107817 prompts.\n",
      "Processed 68000 out of 107817 prompts.\n",
      "Processed 69000 out of 107817 prompts.\n",
      "Processed 70000 out of 107817 prompts.\n",
      "Processed 71000 out of 107817 prompts.\n",
      "Processed 72000 out of 107817 prompts.\n",
      "Processed 73000 out of 107817 prompts.\n",
      "Processed 74000 out of 107817 prompts.\n",
      "Processed 75000 out of 107817 prompts.\n",
      "Processed 76000 out of 107817 prompts.\n",
      "Processed 77000 out of 107817 prompts.\n",
      "Processed 78000 out of 107817 prompts.\n",
      "Processed 79000 out of 107817 prompts.\n",
      "Processed 80000 out of 107817 prompts.\n",
      "Processed 81000 out of 107817 prompts.\n",
      "Processed 82000 out of 107817 prompts.\n",
      "Processed 83000 out of 107817 prompts.\n",
      "Processed 84000 out of 107817 prompts.\n",
      "Processed 85000 out of 107817 prompts.\n",
      "Processed 86000 out of 107817 prompts.\n",
      "Processed 87000 out of 107817 prompts.\n",
      "Processed 88000 out of 107817 prompts.\n",
      "Processed 89000 out of 107817 prompts.\n",
      "Processed 90000 out of 107817 prompts.\n",
      "Processed 91000 out of 107817 prompts.\n",
      "Processed 92000 out of 107817 prompts.\n",
      "Processed 93000 out of 107817 prompts.\n",
      "Processed 94000 out of 107817 prompts.\n",
      "Processed 95000 out of 107817 prompts.\n",
      "Processed 96000 out of 107817 prompts.\n",
      "Processed 97000 out of 107817 prompts.\n",
      "Processed 98000 out of 107817 prompts.\n",
      "Processed 99000 out of 107817 prompts.\n",
      "Processed 100000 out of 107817 prompts.\n",
      "Processed 101000 out of 107817 prompts.\n",
      "Processed 102000 out of 107817 prompts.\n",
      "Processed 103000 out of 107817 prompts.\n",
      "Processed 104000 out of 107817 prompts.\n",
      "Processed 105000 out of 107817 prompts.\n",
      "Processed 106000 out of 107817 prompts.\n",
      "Processed 107000 out of 107817 prompts.\n",
      "Filtering complete. Filtered CSV saved to '/mnt/data/prompts_filtered.csv'\n"
     ]
    }
   ],
   "source": [
    "import difflib\n",
    "import re\n",
    "\n",
    "# A simple regex to detect patterns like \"by Firstname Lastname\"\n",
    "# This pattern looks for \" by \" followed by two words that start with uppercase letters.\n",
    "name_pattern = re.compile(r'\\bby\\s+([A-Z][a-z]+(?:\\s+[A-Z][a-z]+)+)\\b')\n",
    "\n",
    "def contains_person_name(prompt):\n",
    "    # Check if the prompt matches the regex.\n",
    "    # You might want to expand this function to catch additional patterns.\n",
    "    # add filter for \"art by x y\"\n",
    "    return \" by \" in prompt # if by is in prompt it is probably art by someone or painitng by someone \n",
    "    # return bool(name_pattern.search(prompt))\n",
    "\n",
    "# Filter out prompts that contain people's names\n",
    "df_filtered = filtered_nsfw_df[~filtered_nsfw_df['prompt'].apply(contains_person_name)].copy()\n",
    "\n",
    "# Remove near-duplicate prompts\n",
    "filtered_rows = []\n",
    "accepted_prompts = []\n",
    "\n",
    "similarity_threshold = 0.85  # Adjust threshold if needed\n",
    "window_size = 3            # Check only the previous 100 rows.\n",
    "\n",
    "# List to store indices of accepted prompts.\n",
    "accepted_indices = []\n",
    "\n",
    "# Iterate through the filtered DataFrame.\n",
    "for i in range(len(df_filtered)):\n",
    "    current_prompt = df_filtered.iloc[i]['prompt']\n",
    "    is_duplicate = False\n",
    "    # Determine the start index for the sliding window.\n",
    "    start_idx = max(0, i - window_size)\n",
    "    # Compare with prompts in the preceding window.\n",
    "    for j in range(start_idx, i):\n",
    "        previous_prompt = df_filtered.iloc[j]['prompt']\n",
    "        sim = difflib.SequenceMatcher(None, current_prompt, previous_prompt).ratio()\n",
    "        if sim >= similarity_threshold:\n",
    "            is_duplicate = True\n",
    "            break\n",
    "    if not is_duplicate:\n",
    "        accepted_indices.append(i)\n",
    "    if i % 1000 == 0:\n",
    "        print(f\"Processed {i} out of {len(df_filtered)} prompts.\")\n",
    "    \n",
    "# Create a new DataFrame with the filtered rows.\n",
    "result_df = df_filtered.iloc[accepted_indices]\n",
    "\n",
    "# # Optionally, save the filtered CSV to a new file.\n",
    "result_df.to_csv('prompts_filtered.csv', index=False)\n",
    "\n",
    "print(\"Filtering complete. Filtered CSV saved to '/mnt/data/prompts_filtered.csv'\")"
   ]
  },
  {
   "cell_type": "code",
   "execution_count": null,
   "metadata": {},
   "outputs": [
    {
     "name": "stdout",
     "output_type": "stream",
     "text": [
      "44766\n"
     ]
    }
   ],
   "source": [
    "# TOODO: There are still people names in this, maybe use some AI model to filter them, this might take some time rn not prioritiezed."
   ]
  },
  {
   "cell_type": "code",
   "execution_count": 25,
   "metadata": {},
   "outputs": [],
   "source": [
    "# print(len(result_df), len(df_filtered), len(filtered_nsfw_df) )\n",
    "filtered_nsfw_df_old = filtered_nsfw_df\n",
    "filtered_nsfw_df = result_df"
   ]
  },
  {
   "cell_type": "code",
   "execution_count": 26,
   "metadata": {},
   "outputs": [
    {
     "name": "stdout",
     "output_type": "stream",
     "text": [
      "Easy images: 7308, Medium images: 8022, Hard images: 14609\n"
     ]
    }
   ],
   "source": [
    "easy_images = filtered_nsfw_df[(filtered_nsfw_df['prompt_length'] >= 4) & (filtered_nsfw_df['prompt_length'] <= 8)]\n",
    "medium_images = filtered_nsfw_df[(filtered_nsfw_df['prompt_length'] > 8) & (filtered_nsfw_df['prompt_length'] <= 12)]\n",
    "hard_images = filtered_nsfw_df[(filtered_nsfw_df['prompt_length'] > 12) & (filtered_nsfw_df['prompt_length'] <= 20)]\n",
    "print(f'Easy images: {easy_images.shape[0]}, Medium images: {len(medium_images)}, Hard images: {len(hard_images)}')"
   ]
  },
  {
   "cell_type": "code",
   "execution_count": 28,
   "metadata": {},
   "outputs": [
    {
     "name": "stdout",
     "output_type": "stream",
     "text": [
      "part_id\n",
      "1609    24\n",
      "306     22\n",
      "1648    22\n",
      "650     21\n",
      "844     20\n",
      "Name: count, dtype: int64\n",
      "part_id\n",
      "1534    83\n",
      "1199    28\n",
      "1850    25\n",
      "12      20\n",
      "1533    19\n",
      "Name: count, dtype: int64\n",
      "part_id\n",
      "687     36\n",
      "1050    35\n",
      "910     33\n",
      "856     26\n",
      "733     26\n",
      "Name: count, dtype: int64\n"
     ]
    }
   ],
   "source": [
    "\n",
    "# show most common part id for each difficulty level\n",
    "print(easy_images['part_id'].value_counts().head())\n",
    "print(medium_images['part_id'].value_counts().head())\n",
    "print(hard_images['part_id'].value_counts().head())\n"
   ]
  },
  {
   "cell_type": "code",
   "execution_count": 30,
   "metadata": {},
   "outputs": [
    {
     "name": "stdout",
     "output_type": "stream",
     "text": [
      "[51, 450, 1219, 1534, 1609, 1655, 1816]\n"
     ]
    }
   ],
   "source": [
    "import os\n",
    "IMAGES_PATH = \"diffusiondb/images\"\n",
    "def get_available_parts():\n",
    "    parts_ids = [int(i[len('part-'):]) for i in os.listdir(IMAGES_PATH)]\n",
    "    return parts_ids\n",
    "parts_ids = get_available_parts()\n",
    "print(parts_ids)"
   ]
  },
  {
   "cell_type": "code",
   "execution_count": 38,
   "metadata": {},
   "outputs": [],
   "source": [
    "def get_good_length_images_from_part(images_df,lower_bound, upper_bound, part_id, n_images=10):\n",
    "    # Filter the images by part_id\n",
    "    part_images = images_df[images_df['part_id'] == part_id]\n",
    "    \n",
    "    # Filter the images by prompt length\n",
    "    filtered_images = part_images[part_images['prompt_length'].between(lower_bound, upper_bound)]\n",
    "    \n",
    "    # Select the first n_images\n",
    "    selected_images = filtered_images.head(n_images)\n",
    "    \n",
    "    return selected_images\n",
    "\n",
    "def get_available_length_images(images_df,lower_bound, upper_bound, n_images=0):\n",
    "    parts = get_available_parts()\n",
    "\n",
    "    # Filter the images by part_id\n",
    "    part_images = images_df[images_df['part_id'].isin(parts)]\n",
    "\n",
    "    # Filter the images by prompt length\n",
    "    filtered_images = part_images[part_images['prompt_length'].between(lower_bound, upper_bound)]\n",
    "    \n",
    "    # Select the first n_images\n",
    "    if n_images != 0:\n",
    "        selected_images = filtered_images.head(n_images)\n",
    "    else:\n",
    "        selected_images = filtered_images\n",
    "    return selected_images"
   ]
  },
  {
   "cell_type": "code",
   "execution_count": 39,
   "metadata": {},
   "outputs": [
    {
     "name": "stdout",
     "output_type": "stream",
     "text": [
      "60 300\n"
     ]
    }
   ],
   "source": [
    "\n",
    "# Combine the dataframes\n",
    "# selected_data = pd.concat([get_good_length_images_from_part(filtered_nsfw_df, 4, 10, 51, n_images=20), get_good_length_images_from_part(filtered_nsfw_df, 10, 20, 51, n_images=20)])\n",
    "selected_data = pd.concat([get_available_length_images(result_df, 4, 8, n_images=20), get_available_length_images(result_df, 8, 15, n_images=20),\n",
    "                           get_available_length_images(result_df, 15, 20, n_images=20)])\n",
    "selected_data_full = pd.concat([get_available_length_images(result_df, 4, 8), get_available_length_images(result_df, 8, 15),\n",
    "                           get_available_length_images(result_df, 15, 20)])\n",
    "print(len(selected_data), len(selected_data_full))  "
   ]
  },
  {
   "cell_type": "code",
   "execution_count": 55,
   "metadata": {},
   "outputs": [
    {
     "data": {
      "text/html": [
       "<div>\n",
       "<style scoped>\n",
       "    .dataframe tbody tr th:only-of-type {\n",
       "        vertical-align: middle;\n",
       "    }\n",
       "\n",
       "    .dataframe tbody tr th {\n",
       "        vertical-align: top;\n",
       "    }\n",
       "\n",
       "    .dataframe thead th {\n",
       "        text-align: right;\n",
       "    }\n",
       "</style>\n",
       "<table border=\"1\" class=\"dataframe\">\n",
       "  <thead>\n",
       "    <tr style=\"text-align: right;\">\n",
       "      <th></th>\n",
       "      <th>image_name</th>\n",
       "      <th>prompt</th>\n",
       "      <th>part_id</th>\n",
       "      <th>seed</th>\n",
       "      <th>step</th>\n",
       "      <th>cfg</th>\n",
       "      <th>sampler</th>\n",
       "      <th>width</th>\n",
       "      <th>height</th>\n",
       "      <th>user_name</th>\n",
       "      <th>timestamp</th>\n",
       "      <th>image_nsfw</th>\n",
       "      <th>prompt_nsfw</th>\n",
       "      <th>prompt_length</th>\n",
       "    </tr>\n",
       "  </thead>\n",
       "  <tbody>\n",
       "  </tbody>\n",
       "</table>\n",
       "</div>"
      ],
      "text/plain": [
       "Empty DataFrame\n",
       "Columns: [image_name, prompt, part_id, seed, step, cfg, sampler, width, height, user_name, timestamp, image_nsfw, prompt_nsfw, prompt_length]\n",
       "Index: []"
      ]
     },
     "execution_count": 55,
     "metadata": {},
     "output_type": "execute_result"
    }
   ],
   "source": [
    "img = metadata_df[metadata_df['image_name'] == '00dd0418-d339-4833-9d5d-fd6a01087193.webp']\n",
    "img"
   ]
  },
  {
   "cell_type": "code",
   "execution_count": 43,
   "metadata": {},
   "outputs": [
    {
     "data": {
      "text/html": [
       "<div>\n",
       "<style scoped>\n",
       "    .dataframe tbody tr th:only-of-type {\n",
       "        vertical-align: middle;\n",
       "    }\n",
       "\n",
       "    .dataframe tbody tr th {\n",
       "        vertical-align: top;\n",
       "    }\n",
       "\n",
       "    .dataframe thead th {\n",
       "        text-align: right;\n",
       "    }\n",
       "</style>\n",
       "<table border=\"1\" class=\"dataframe\">\n",
       "  <thead>\n",
       "    <tr style=\"text-align: right;\">\n",
       "      <th></th>\n",
       "      <th>image_name</th>\n",
       "      <th>prompt</th>\n",
       "      <th>part_id</th>\n",
       "      <th>seed</th>\n",
       "      <th>step</th>\n",
       "      <th>cfg</th>\n",
       "      <th>sampler</th>\n",
       "      <th>width</th>\n",
       "      <th>height</th>\n",
       "      <th>user_name</th>\n",
       "      <th>timestamp</th>\n",
       "      <th>image_nsfw</th>\n",
       "      <th>prompt_nsfw</th>\n",
       "      <th>prompt_length</th>\n",
       "    </tr>\n",
       "  </thead>\n",
       "  <tbody>\n",
       "    <tr>\n",
       "      <th>14766</th>\n",
       "      <td>e63e2d9f-1545-4a55-99dd-02fe99559a45.png</td>\n",
       "      <td>a mammoth trying a new dress</td>\n",
       "      <td>450</td>\n",
       "      <td>3838470372</td>\n",
       "      <td>50</td>\n",
       "      <td>10.0</td>\n",
       "      <td>8</td>\n",
       "      <td>512</td>\n",
       "      <td>512</td>\n",
       "      <td>9ea2260cbb9acca5574cf6c9252348d9c23bd611632efe...</td>\n",
       "      <td>2022-08-15 23:28:00+00:00</td>\n",
       "      <td>0.088061</td>\n",
       "      <td>0.153718</td>\n",
       "      <td>6</td>\n",
       "    </tr>\n",
       "  </tbody>\n",
       "</table>\n",
       "</div>"
      ],
      "text/plain": [
       "                                     image_name  \\\n",
       "14766  e63e2d9f-1545-4a55-99dd-02fe99559a45.png   \n",
       "\n",
       "                              prompt  part_id        seed  step   cfg  \\\n",
       "14766  a mammoth trying a new dress       450  3838470372    50  10.0   \n",
       "\n",
       "       sampler  width  height  \\\n",
       "14766        8    512     512   \n",
       "\n",
       "                                               user_name  \\\n",
       "14766  9ea2260cbb9acca5574cf6c9252348d9c23bd611632efe...   \n",
       "\n",
       "                       timestamp  image_nsfw  prompt_nsfw  prompt_length  \n",
       "14766  2022-08-15 23:28:00+00:00    0.088061     0.153718              6  "
      ]
     },
     "execution_count": 43,
     "metadata": {},
     "output_type": "execute_result"
    }
   ],
   "source": [
    "img = result_df[result_df['image_name'] == 'e63e2d9f-1545-4a55-99dd-02fe99559a45.png']\n",
    "img"
   ]
  },
  {
   "cell_type": "code",
   "execution_count": 56,
   "metadata": {},
   "outputs": [
    {
     "name": "stdout",
     "output_type": "stream",
     "text": [
      "Image 1ac4d547-7794-497e-a1ed-3923589cda6a.png in part 51 copied successfully.\n",
      "Image a827e12e-c6d6-416d-af6a-0a85460cefba.png in part 51 copied successfully.\n",
      "Image dc73a1a1-1be0-464c-8fb9-d507d0f052a6.png in part 51 copied successfully.\n",
      "Image e63e2d9f-1545-4a55-99dd-02fe99559a45.png in part 450 copied successfully.\n",
      "Image 91f1f0ab-0fc2-474f-b3ec-a265cc9f2a4a.png in part 450 copied successfully.\n",
      "Image 2323987b-cc0a-4538-9335-95c1c7f0949a.png in part 1219 copied successfully.\n",
      "Image 21d4963f-3425-492b-8f60-4b243dbb7c15.png in part 1534 copied successfully.\n",
      "Image e3d2dc1a-dd8d-4600-9611-60946fb15501.png in part 1534 copied successfully.\n",
      "Image 46124172-b259-4ab1-908e-e823e0335056.png in part 1534 copied successfully.\n",
      "Image 97a1e231-8c2a-4d08-8229-b26c36f82022.png in part 1534 copied successfully.\n",
      "Image d46cb0c2-051b-4957-a0c9-d3b5a5e73955.png in part 1534 copied successfully.\n",
      "Image 848b43c7-ceec-437e-895b-44e831b7d0d6.png in part 1534 copied successfully.\n",
      "Image 567b8145-7225-44cc-82de-c63f75e8140f.png in part 1534 copied successfully.\n",
      "Image 184a700c-fb66-4c9b-b137-c9f9e2af4c16.png in part 1534 copied successfully.\n",
      "Image a3250906-3ecb-41f8-8996-2e1fd6d9cabc.png in part 1609 copied successfully.\n",
      "Image 1cb55146-e973-45ef-ad98-14c815da87f1.png in part 1609 copied successfully.\n",
      "Image b92e4e79-0859-45d5-9786-f7e0fe73b245.png in part 1609 copied successfully.\n",
      "Image 65829d76-952f-469d-8e3a-1c51151b9399.png in part 1609 copied successfully.\n",
      "Image e5df32d6-b3a7-4c41-ac45-ddfd50f44c67.png in part 1609 copied successfully.\n",
      "Image cf8b3b93-23d3-48a3-885f-c4cd90ffdf86.png in part 1609 copied successfully.\n",
      "Image 24fd2cba-0ae7-4f75-8338-136c27d0c299.png in part 51 copied successfully.\n",
      "Image 1ac4d547-7794-497e-a1ed-3923589cda6a.png in part 51 copied successfully.\n",
      "Image 9dbcef31-2256-4c1b-a9a0-916b519ab006.png in part 51 copied successfully.\n",
      "Image 0819ccc0-ed83-4743-93f5-43245751c403.png in part 450 copied successfully.\n",
      "Image 6bbf2251-c99a-468f-ab12-57b8d931e383.png in part 450 copied successfully.\n",
      "Image b8320d1d-9773-40f5-b500-528cae805762.png in part 450 copied successfully.\n",
      "Image 262ef95f-c875-45a3-8024-667f6e22447e.png in part 450 copied successfully.\n",
      "Image 213fd0bc-a0c3-443f-bef2-081865f0e2b8.png in part 450 copied successfully.\n",
      "Image 5cce6431-39ca-4bf8-a538-1ff132462cdb.png in part 450 copied successfully.\n",
      "Image 9f4d0b38-89d6-4abd-be28-bb375f310515.png in part 450 copied successfully.\n",
      "Image 20a5dd41-53d6-4810-acb3-85554db78109.png in part 450 copied successfully.\n",
      "Image 0dbd5303-c2a5-4bd6-bb86-6769a5c9433b.png in part 450 copied successfully.\n",
      "Image 1ecc1367-e27b-4f32-90bf-1f457ffbad74.png in part 450 copied successfully.\n",
      "Image d1c7e997-bf01-424c-a451-c4dd35111651.png in part 450 copied successfully.\n",
      "Image 91f1f0ab-0fc2-474f-b3ec-a265cc9f2a4a.png in part 450 copied successfully.\n",
      "Image 554e3b69-aeca-4c21-8634-77055e63d16c.png in part 450 copied successfully.\n",
      "Image 5b91f785-94ad-42f8-9571-22bfd4fdc631.png in part 450 copied successfully.\n",
      "Image 71382f7e-9ca5-403a-966f-c53ba8eb91ec.png in part 1219 copied successfully.\n",
      "Image e0e1271e-49c2-46e7-828a-fa3e0f541f67.png in part 1534 copied successfully.\n",
      "Image e3d2dc1a-dd8d-4600-9611-60946fb15501.png in part 1534 copied successfully.\n",
      "Image 106784fa-e2cb-49ff-a9f8-9aa3ec3351c1.png in part 51 copied successfully.\n",
      "Image 7c90617e-5dd1-476c-b149-96371c310ba9.png in part 51 copied successfully.\n",
      "Image d7def7c4-320d-4f71-8998-c286bab5e386.png in part 450 copied successfully.\n",
      "Image e81f759f-0f9e-4740-acb1-67d0c5f2f176.png in part 450 copied successfully.\n",
      "Image 7fee9af5-e88d-45df-8503-dedaec60a18c.png in part 450 copied successfully.\n",
      "Image 3701b189-d3a2-427d-98c7-7150b013c1f7.png in part 450 copied successfully.\n",
      "Image 28ea60bf-d9c6-40c6-b4d1-0459f95daaac.png in part 450 copied successfully.\n",
      "Image 802ae378-3e56-43f6-85eb-7c9192b5b397.png in part 450 copied successfully.\n",
      "Image 9f4d0b38-89d6-4abd-be28-bb375f310515.png in part 450 copied successfully.\n",
      "Image 20a5dd41-53d6-4810-acb3-85554db78109.png in part 450 copied successfully.\n",
      "Image 0dbd5303-c2a5-4bd6-bb86-6769a5c9433b.png in part 450 copied successfully.\n",
      "Image 51a659df-a923-4e28-8c59-80f0aa50bfe7.png in part 450 copied successfully.\n",
      "Image 52ca4538-7b72-48ac-a736-f4bd1c4778c9.png in part 1534 copied successfully.\n",
      "Image e51fda2a-7c8b-4f86-84d8-996db4a0f0e8.png in part 1534 copied successfully.\n",
      "Image ad24fbba-3613-4c58-860e-ee5366849a43.png in part 1534 copied successfully.\n",
      "Image d76c63ed-48df-49b6-b1bc-f0eb741a5d9c.png in part 1534 copied successfully.\n",
      "Image e17d3f49-2fd5-4186-ae99-6d41bc9b7cbe.png in part 1534 copied successfully.\n",
      "Image e94511c4-278f-4c97-988b-2abd9fb67a4f.png in part 1534 copied successfully.\n",
      "Image 3663c0ce-738e-489b-af31-e90a5c3b0ea4.png in part 1534 copied successfully.\n",
      "Image 34f34a46-a30d-4940-a53b-d37388adfb15.png in part 1534 copied successfully.\n"
     ]
    }
   ],
   "source": [
    "import os\n",
    "import shutil\n",
    "\n",
    "# images are stored at \"/data/part-{index:06}/image_name\" copy each image in the selected images to a the folder /data/selected_images and save selected_images as file in /data/selected_images.csv\n",
    "# Create the destination directory if it doesn't exist\n",
    "destination_dir = 'data/selected_images'\n",
    "os.makedirs(destination_dir, exist_ok=True)\n",
    "j = 0\n",
    "# Copy each selected image to the destination directory\n",
    "for index, image in selected_data.iterrows():\n",
    "    part_id = image['part_id']\n",
    "    source_path = f'{IMAGES_PATH}/part-{part_id:06}/{image[\"image_name\"]}'\n",
    "    destination_path = os.path.join(destination_dir, image['image_name'])\n",
    "    # print(index, source_path, destination_path)\n",
    "    try:\n",
    "        shutil.copy(source_path, destination_path)\n",
    "        print(f\"Image {image['image_name']} in part {image['part_id']} copied successfully.\")\n",
    "    except FileNotFoundError:\n",
    "        j+=1\n",
    "        print(f\"File {source_path} innot found. {j}\")\n",
    "# Save the selected images to a CSV file\n",
    "selected_data.to_csv('data/selected_images.csv', index=False)"
   ]
  },
  {
   "cell_type": "code",
   "execution_count": null,
   "metadata": {},
   "outputs": [],
   "source": []
  }
 ],
 "metadata": {
  "kernelspec": {
   "display_name": "Python 3",
   "language": "python",
   "name": "python3"
  },
  "language_info": {
   "codemirror_mode": {
    "name": "ipython",
    "version": 3
   },
   "file_extension": ".py",
   "mimetype": "text/x-python",
   "name": "python",
   "nbconvert_exporter": "python",
   "pygments_lexer": "ipython3",
   "version": "3.11.4"
  }
 },
 "nbformat": 4,
 "nbformat_minor": 2
}
